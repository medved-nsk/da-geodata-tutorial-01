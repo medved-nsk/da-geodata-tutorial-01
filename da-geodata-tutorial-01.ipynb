{
 "cells": [
  {
   "cell_type": "markdown",
   "id": "e64eafed-b462-4888-acb1-c2eefde893f6",
   "metadata": {
    "ExecuteTime": {
     "end_time": "2021-09-20T14:11:01.872003Z",
     "start_time": "2021-09-20T14:11:01.869696Z"
    }
   },
   "source": [
    "# Script to demonstrate loading geodata from OSM and working with them"
   ]
  },
  {
   "cell_type": "code",
   "execution_count": 1,
   "id": "57ee09b4",
   "metadata": {
    "ExecuteTime": {
     "end_time": "2021-09-20T10:58:17.293963Z",
     "start_time": "2021-09-20T10:58:17.291532Z"
    }
   },
   "outputs": [],
   "source": [
    "from shapely.geometry import Polygon,LineString\n",
    "\n",
    "from shapely.ops import linemerge, unary_union, polygonize\n",
    "\n",
    "import datetime\n",
    "import numpy as np\n",
    "import pysal\n",
    "import geopandas as gpd\n",
    "from matplotlib import pyplot as plt\n",
    "from shapely.geometry import Point\n",
    "import requests\n",
    "import random\n",
    "import overpy\n",
    "\n",
    "import pandas as pd"
   ]
  },
  {
   "cell_type": "markdown",
   "id": "f93ae433",
   "metadata": {},
   "source": [
    "<b> TARGET: </b> count the number of stores in the districts of the City and visualize the density on the map"
   ]
  },
  {
   "cell_type": "markdown",
   "id": "7fd31750",
   "metadata": {},
   "source": [
    "### Loading districts"
   ]
  },
  {
   "cell_type": "code",
   "execution_count": 2,
   "id": "5c20bcae",
   "metadata": {
    "ExecuteTime": {
     "end_time": "2021-09-19T21:05:20.740210Z",
     "start_time": "2021-09-19T21:05:20.737980Z"
    }
   },
   "outputs": [],
   "source": [
    "overpass_query = \\\n",
    "\"\"\"[out:json]\n",
    ";\n",
    "area[\"name:en\"=\"Berlin\"];\n",
    "(\n",
    "  relation\n",
    "    [\"boundary\"=\"administrative\"]\n",
    "    [\"admin_level\"=\"9\"]\n",
    "    (area);\n",
    ");\n",
    "(\n",
    "  ._;\n",
    "  >;\n",
    ");\n",
    "out geom;\n",
    " \"\"\""
   ]
  },
  {
   "cell_type": "markdown",
   "id": "119fc39b",
   "metadata": {},
   "source": [
    "### Using overpy library"
   ]
  },
  {
   "cell_type": "code",
   "execution_count": 3,
   "id": "d097dcf6",
   "metadata": {
    "ExecuteTime": {
     "end_time": "2021-09-19T21:05:25.359604Z",
     "start_time": "2021-09-19T21:05:25.357046Z"
    }
   },
   "outputs": [],
   "source": [
    "api = overpy.Overpass()\n",
    "\n",
    "city_borders = api.query(overpass_query)"
   ]
  },
  {
   "cell_type": "code",
   "execution_count": 4,
   "id": "c63f905c-fae1-4983-b57d-c5109b277891",
   "metadata": {},
   "outputs": [
    {
     "data": {
      "text/plain": [
       "list"
      ]
     },
     "execution_count": 4,
     "metadata": {},
     "output_type": "execute_result"
    }
   ],
   "source": [
    "type(city_borders.ways)"
   ]
  },
  {
   "cell_type": "code",
   "execution_count": 5,
   "id": "1eb50665",
   "metadata": {
    "ExecuteTime": {
     "end_time": "2021-09-20T10:59:01.554430Z",
     "start_time": "2021-09-20T10:59:01.444463Z"
    }
   },
   "outputs": [],
   "source": [
    "lss = []\n",
    "for ii_w,way in enumerate(city_borders.ways):\n",
    "    \"\"\"loop on ribs\"\"\"\n",
    "    ls_coords = []\n",
    "\n",
    "    for node in way.nodes:\n",
    "        ls_coords.append((node.lon,node.lat)) # \n",
    "\n",
    "    lss.append(LineString(ls_coords)) # Saving coordinates into line  -linestring\n",
    "\n",
    "\n",
    "merged = linemerge([*lss]) # Connecting all lines\n",
    "borders = unary_union(merged) # Converting linestrings to multistring\n",
    "polygons = list(polygonize(borders))"
   ]
  },
  {
   "cell_type": "code",
   "execution_count": 6,
   "id": "838f3f24",
   "metadata": {
    "ExecuteTime": {
     "end_time": "2021-09-20T13:38:47.560735Z",
     "start_time": "2021-09-20T13:38:47.557186Z"
    },
    "scrolled": true
   },
   "outputs": [],
   "source": [
    "gdf_zones_overpass= pd.Series(polygons, index=range(len(polygons))).to_frame()\n",
    "gdf_zones_overpass.columns=['geometry']"
   ]
  },
  {
   "cell_type": "code",
   "execution_count": 7,
   "id": "2317c339",
   "metadata": {
    "ExecuteTime": {
     "end_time": "2021-09-20T13:38:59.694929Z",
     "start_time": "2021-09-20T13:38:59.666495Z"
    }
   },
   "outputs": [],
   "source": [
    "gdf_zones_overpass =gpd.GeoDataFrame(gdf_zones_overpass, crs='epsg:4326', geometry='geometry')"
   ]
  },
  {
   "cell_type": "code",
   "execution_count": 8,
   "id": "bfbd8135",
   "metadata": {
    "ExecuteTime": {
     "end_time": "2021-09-20T13:39:00.194231Z",
     "start_time": "2021-09-20T13:39:00.053470Z"
    }
   },
   "outputs": [
    {
     "data": {
      "text/plain": [
       "<AxesSubplot:>"
      ]
     },
     "execution_count": 8,
     "metadata": {},
     "output_type": "execute_result"
    },
    {
     "data": {
      "image/png": "[encoded data removed]",
      "text/plain": [
       "<Figure size 432x288 with 1 Axes>"
      ]
     },
     "metadata": {
      "needs_background": "light"
     },
     "output_type": "display_data"
    }
   ],
   "source": [
    "gdf_zones_overpass.plot()"
   ]
  },
  {
   "cell_type": "markdown",
   "id": "86f9bd01",
   "metadata": {
    "tags": []
   },
   "source": [
    "### Using standart HTTP requests library"
   ]
  },
  {
   "cell_type": "code",
   "execution_count": 9,
   "id": "a07b1029",
   "metadata": {
    "ExecuteTime": {
     "end_time": "2021-09-19T21:08:05.242632Z",
     "start_time": "2021-09-19T21:07:59.532361Z"
    },
    "scrolled": true
   },
   "outputs": [
    {
     "data": {
      "text/plain": [
       "{'version': 0.6,\n",
       " 'generator': 'Overpass API 0.7.58.5 b0c4acbb',\n",
       " 'osm3s': {'timestamp_osm_base': '2022-08-10T17:01:24Z',\n",
       "  'timestamp_areas_base': '2022-07-20T11:06:24Z',\n",
       "  'copyright': 'The data included in this document is from www.openstreetmap.org. The data is made available under ODbL.'},\n",
       " 'elements': [{'type': 'node',\n",
       "   'id': 21509149,\n",
       "   'lat': 52.442978,\n",
       "   'lon': 13.7569427},\n",
       "  {'type': 'node', 'id': 26753043, 'lat': 52.5404013, 'lon': 13.4041908},\n",
       "  {'type': 'node', 'id': 26753083, 'lat': 52.5323485, 'lon': 13.4064243},\n",
       "  {'type': 'node', 'id': 26753581, 'lat': 52.5361014, 'lon': 13.4067482},\n",
       "  {'type': 'node', 'id': 27199831, 'lat': 52.5675428, 'lon': 13.3844451},\n",
       "  {'type': 'node', 'id': 27199834, 'lat': 52.5664477, 'lon': 13.3814821},\n",
       "  {'type': 'node', 'id': 29215037, 'lat': 52.5082102, 'lon': 13.4052837},\n",
       "  {'type': 'node', 'id': 29276220, 'lat': 52.5073345, 'lon': 13.4283665},\n",
       "  {'type': 'node',\n",
       "   'id': 29336704,\n",
       "   'lat': 52.515747,\n",
       "   'lon': 13.3096834,\n",
       "   'tags': {'name': 'Charlottenburg',\n",
       "    'name:prefix': 'Ortsteil',\n",
       "    'note': 'siehe Relation für Details',\n",
       "    'place': 'suburb'}},\n",
       "  {'type': 'node', 'id': 29787112, 'lat': 52.4948733, 'lon': 13.4474502},\n",
       "  {'type': 'node', 'id': 29787113, 'lat': 52.4970891, 'lon': 13.4506551},\n",
       "  {'type': 'node', 'id': 29787114, 'lat': 52.4973922, 'lon': 13.4513876},\n",
       "  {'type': 'node', 'id': 29845126, 'lat': 52.510681, 'lon': 13.2158675},\n",
       "  {'type': 'node', 'id': 29845127, 'lat': 52.5102731, 'lon': 13.2155245},\n",
       "  {'type': 'node', 'id': 29845128, 'lat': 52.5096504, 'lon': 13.2151045},\n",
       "  {'type': 'node', 'id': 30302167, 'lat': 52.5377211, 'lon': 13.3266237},\n",
       "  {'type': 'node', 'id': 30306668, 'lat': 52.5318816, 'lon': 13.3130779},\n",
       "  {'type': 'node', 'id': 30306681, 'lat': 52.5302609, 'lon': 13.3133556},\n",
       "  {'type': 'node', 'id': 30306717, 'lat': 52.5209231, 'lon': 13.3168021},\n",
       "  {'type': 'node', 'id': 30306731, 'lat': 52.5203665, 'lon': 13.3177979},\n",
       "  {'type': 'node', 'id': 30306738, 'lat': 52.5218744, 'lon': 13.3187454},\n",
       "  {'type': 'node', 'id': 30306739, 'lat': 52.5219252, 'lon': 13.3187153},\n",
       "  {'type': 'node', 'id': 30306740, 'lat': 52.5221594, 'lon': 13.318713},\n",
       "  {'type': 'node', 'id': 30306741, 'lat': 52.5226128, 'lon': 13.3188175},\n",
       "  {'type': 'node', 'id': 30306742, 'lat': 52.5228442, 'lon': 13.3188665},\n",
       "  {'type': 'node', 'id': 30306743, 'lat': 52.523589, 'lon': 13.3193699},\n",
       "  {'type': 'node', 'id': 30306744, 'lat': 52.5237793, 'lon': 13.3195567},\n",
       "  {'type': 'node', 'id': 30306745, 'lat': 52.5240407, 'lon': 13.320012},\n",
       "  {'type': 'node', 'id': 30306746, 'lat': 52.52441, 'lon': 13.3209395},\n",
       "  {'type': 'node', 'id': 30306747, 'lat': 52.5244663, 'lon': 13.3211029},\n",
       "  {'type': 'node', 'id': 30306748, 'lat': 52.5245738, 'lon': 13.3216764},\n",
       "  {'type': 'node', 'id': 30306749, 'lat': 52.5247049, 'lon': 13.3232515},\n",
       "  {'type': 'node', 'id': 30306750, 'lat': 52.5246964, 'lon': 13.3238047},\n",
       "  {'type': 'node', 'id': 30306751, 'lat': 52.5245547, 'lon': 13.3247362},\n",
       "  {'type': 'node', 'id': 30306752, 'lat': 52.5244322, 'lon': 13.3252111},\n",
       "  {'type': 'node', 'id': 30306753, 'lat': 52.5239589, 'lon': 13.3264936},\n",
       "  {'type': 'node', 'id': 30306794, 'lat': 52.5238725, 'lon': 13.3266744},\n",
       "  {'type': 'node', 'id': 30306805, 'lat': 52.5220297, 'lon': 13.3291167},\n",
       "  {'type': 'node', 'id': 30306806, 'lat': 52.521568, 'lon': 13.3293981},\n",
       "  {'type': 'node', 'id': 30306807, 'lat': 52.5209237, 'lon': 13.3295539},\n",
       "  {'type': 'node', 'id': 30306808, 'lat': 52.5207043, 'lon': 13.3295384},\n",
       "  {'type': 'node', 'id': 30306809, 'lat': 52.5199439, 'lon': 13.3293014},\n",
       "  {'type': 'node', 'id': 30306810, 'lat': 52.5195229, 'lon': 13.3291706},\n",
       "  {'type': 'node', 'id': 30306811, 'lat': 52.5191688, 'lon': 13.3290951},\n",
       "  {'type': 'node', 'id': 30306816, 'lat': 52.5175537, 'lon': 13.3301421},\n",
       "  {'type': 'node', 'id': 30306819, 'lat': 52.5168684, 'lon': 13.331672},\n",
       "  {'type': 'node', 'id': 30306836, 'lat': 52.5167331, 'lon': 13.3322138},\n",
       "  {'type': 'node', 'id': 30306837, 'lat': 52.5166757, 'lon': 13.3329896},\n",
       "  {'type': 'node', 'id': 30306838, 'lat': 52.5167133, 'lon': 13.3337876},\n",
       "  {'type': 'node', 'id': 33339969, 'lat': 52.4670525, 'lon': 13.2648414},\n",
       "  {'type': 'node', 'id': 33339975, 'lat': 52.4669523, 'lon': 13.2629525},\n",
       "  {'type': 'node', 'id': 33339985, 'lat': 52.4664571, 'lon': 13.258998},\n",
       "  {'type': 'node', 'id': 34784766, 'lat': 52.5260971, 'lon': 13.2225986},\n",
       "  {'type': 'node', 'id': 34811845, 'lat': 52.4606672, 'lon': 13.421449},\n",
       "  {'type': 'node', 'id': 36432793, 'lat': 52.5090972, 'lon': 13.2132311},\n",
       "  {'type': 'node', 'id': 36432794, 'lat': 52.509101, 'lon': 13.2140851},\n",
       "  {'type': 'node', 'id': 36608438, 'lat': 52.530199, 'lon': 13.2782311},\n",
       "  {'type': 'node', 'id': 36608439, 'lat': 52.5301413, 'lon': 13.2779273},\n",
       "  {'type': 'node', 'id': 36608441, 'lat': 52.529763, 'lon': 13.2769594},\n",
       "  {'type': 'node', 'id': 36608443, 'lat': 52.5288671, 'lon': 13.2746826},\n",
       "  {'type': 'node', 'id': 36608444, 'lat': 52.5288256, 'lon': 13.2738552},\n",
       "  {'type': 'node', 'id': 36608445, 'lat': 52.5288465, 'lon': 13.2731084},\n",
       "  {'type': 'node', 'id': 36608446, 'lat': 52.5288914, 'lon': 13.2721893},\n",
       "  {'type': 'node', 'id': 36608447, 'lat': 52.5289419, 'lon': 13.2708982},\n",
       "  {'type': 'node', 'id': 36608448, 'lat': 52.5289505, 'lon': 13.2697988},\n",
       "  {'type': 'node', 'id': 36608449, 'lat': 52.528978, 'lon': 13.268921},\n",
       "  {'type': 'node', 'id': 36608450, 'lat': 52.5289152, 'lon': 13.2678895},\n",
       "  {'type': 'node', 'id': 36608451, 'lat': 52.5288521, 'lon': 13.2664658},\n",
       "  {'type': 'node', 'id': 36608453, 'lat': 52.5287726, 'lon': 13.2652987},\n",
       "  {'type': 'node', 'id': 36608454, 'lat': 52.5285859, 'lon': 13.264064},\n",
       "  {'type': 'node', 'id': 36608455, 'lat': 52.5283555, 'lon': 13.2629204},\n",
       "  {'type': 'node', 'id': 36608456, 'lat': 52.5281034, 'lon': 13.2620294},\n",
       "  {'type': 'node', 'id': 36608457, 'lat': 52.5276519, 'lon': 13.2604373},\n",
       "  {'type': 'node', 'id': 36608458, 'lat': 52.5274869, 'lon': 13.2598505},\n",
       "  {'type': 'node', 'id': 36608459, 'lat': 52.5273668, 'lon': 13.259121},\n",
       "  {'type': 'node', 'id': 36608460, 'lat': 52.5272665, 'lon': 13.2578775},\n",
       "  {'type': 'node', 'id': 36608461, 'lat': 52.5272019, 'lon': 13.2568799},\n",
       "  {'type': 'node', 'id': 36608468, 'lat': 52.5273059, 'lon': 13.2493485},\n",
       "  {'type': 'node', 'id': 36608469, 'lat': 52.5274904, 'lon': 13.2486284},\n",
       "  {'type': 'node', 'id': 36608470, 'lat': 52.527631, 'lon': 13.248202},\n",
       "  {'type': 'node', 'id': 36608471, 'lat': 52.5283869, 'lon': 13.2467044},\n",
       "  {'type': 'node', 'id': 38898293, 'lat': 52.4975592, 'lon': 13.4540643},\n",
       "  {'type': 'node', 'id': 38898294, 'lat': 52.4975462, 'lon': 13.4531081},\n",
       "  {'type': 'node', 'id': 71446186, 'lat': 52.5061821, 'lon': 13.3347405},\n",
       "  {'type': 'node', 'id': 73652755, 'lat': 52.6421787, 'lon': 13.5296606},\n",
       "  {'type': 'node', 'id': 73663097, 'lat': 52.6430319, 'lon': 13.5339629},\n",
       "  {'type': 'node', 'id': 76583319, 'lat': 52.6252914, 'lon': 13.5638605},\n",
       "  {'type': 'node', 'id': 81732552, 'lat': 52.5093251, 'lon': 13.2145088},\n",
       "  {'type': 'node', 'id': 82555584, 'lat': 52.4671847, 'lon': 13.2624412},\n",
       "  {'type': 'node', 'id': 82555591, 'lat': 52.4697966, 'lon': 13.2139879},\n",
       "  {'type': 'node', 'id': 82555592, 'lat': 52.4696188, 'lon': 13.2133475},\n",
       "  {'type': 'node', 'id': 82555593, 'lat': 52.4695564, 'lon': 13.2121844},\n",
       "  {'type': 'node', 'id': 82555597, 'lat': 52.469439, 'lon': 13.2115778},\n",
       "  {'type': 'node', 'id': 82555601, 'lat': 52.4704202, 'lon': 13.2058106},\n",
       "  {'type': 'node', 'id': 82555614, 'lat': 52.4692788, 'lon': 13.2009803},\n",
       "  {'type': 'node', 'id': 82555639, 'lat': 52.4705227, 'lon': 13.2050129},\n",
       "  {'type': 'node', 'id': 82555641, 'lat': 52.4699401, 'lon': 13.2082611},\n",
       "  {'type': 'node', 'id': 82555645, 'lat': 52.4697266, 'lon': 13.2137798},\n",
       "  {'type': 'node', 'id': 102373791, 'lat': 52.5287778, 'lon': 13.4387482},\n",
       "  {'type': 'node', 'id': 122165641, 'lat': 52.4700955, 'lon': 13.2161603},\n",
       "  {'type': 'node', 'id': 126340999, 'lat': 52.4675279, 'lon': 13.2625189},\n",
       "  {'type': 'node', 'id': 126341376, 'lat': 52.4674196, 'lon': 13.2679868},\n",
       "  {'type': 'node',\n",
       "   'id': 144739696,\n",
       "   'lat': 52.4697215,\n",
       "   'lon': 13.2103281,\n",
       "   'tags': {'name': 'Vier Eichen', 'place': 'locality'}},\n",
       "  {'type': 'node', 'id': 150955383, 'lat': 52.4744684, 'lon': 13.6161189},\n",
       "  {'type': 'node', 'id': 162491737, 'lat': 52.4952639, 'lon': 13.4230669},\n",
       "  {'type': 'node', 'id': 177818057, 'lat': 52.5829659, 'lon': 13.2161562},\n",
       "  {'type': 'node', 'id': 177818063, 'lat': 52.5823814, 'lon': 13.2172376},\n",
       "  {'type': 'node', 'id': 177818066, 'lat': 52.5809656, 'lon': 13.2183115},\n",
       "  {'type': 'node', 'id': 177818069, 'lat': 52.5796946, 'lon': 13.2180234},\n",
       "  {'type': 'node', 'id': 177818073, 'lat': 52.5771458, 'lon': 13.2188616},\n",
       "  {'type': 'node', 'id': 177818077, 'lat': 52.5766397, 'lon': 13.2194882},\n",
       "  {'type': 'node', 'id': 177818079, 'lat': 52.5759486, 'lon': 13.2203979},\n",
       "  {'type': 'node', 'id': 177818082, 'lat': 52.5749327, 'lon': 13.2220443},\n",
       "  {'type': 'node', 'id': 177818085, 'lat': 52.5728851, 'lon': 13.2252196},\n",
       "  {'type': 'node', 'id': 177818089, 'lat': 52.5717842, 'lon': 13.2251852},\n",
       "  {'type': 'node', 'id': 177818094, 'lat': 52.5714988, 'lon': 13.2252049},\n",
       "  {'type': 'node', 'id': 177818098, 'lat': 52.5711883, 'lon': 13.2253259},\n",
       "  {'type': 'node', 'id': 177818102, 'lat': 52.5693146, 'lon': 13.2267309},\n",
       "  {'type': 'node', 'id': 177818118, 'lat': 52.5620671, 'lon': 13.2299186},\n",
       "  {'type': 'node', 'id': 177818120, 'lat': 52.5614353, 'lon': 13.2307061},\n",
       "  {'type': 'node', 'id': 177818124, 'lat': 52.5613541, 'lon': 13.2306973},\n",
       "  {'type': 'node', 'id': 177818127, 'lat': 52.561067, 'lon': 13.2308834},\n",
       "  {'type': 'node', 'id': 177818130, 'lat': 52.5607955, 'lon': 13.2311755},\n",
       "  {'type': 'node', 'id': 177818138, 'lat': 52.5602375, 'lon': 13.232346},\n",
       "  {'type': 'node', 'id': 177840601, 'lat': 52.5488072, 'lon': 13.3015376},\n",
       "  {'type': 'node', 'id': 177840604, 'lat': 52.551257, 'lon': 13.3036245},\n",
       "  {'type': 'node', 'id': 177840606, 'lat': 52.5519975, 'lon': 13.3042867},\n",
       "  {'type': 'node', 'id': 177840608, 'lat': 52.5590527, 'lon': 13.3148406},\n",
       "  {'type': 'node', 'id': 177840612, 'lat': 52.5608409, 'lon': 13.3251049},\n",
       "  {'type': 'node', 'id': 177840615, 'lat': 52.562382, 'lon': 13.3268009},\n",
       "  {'type': 'node', 'id': 177840616, 'lat': 52.5616579, 'lon': 13.3317982},\n",
       "  {'type': 'node', 'id': 177840619, 'lat': 52.5644452, 'lon': 13.3371139},\n",
       "  {'type': 'node', 'id': 177840622, 'lat': 52.562151, 'lon': 13.330928},\n",
       "  {'type': 'node', 'id': 177840623, 'lat': 52.5619286, 'lon': 13.3491235},\n",
       "  {'type': 'node', 'id': 177840626, 'lat': 52.5618572, 'lon': 13.3597194},\n",
       "  {'type': 'node', 'id': 177840628, 'lat': 52.560471, 'lon': 13.3601163},\n",
       "  {'type': 'node', 'id': 177840633, 'lat': 52.5611792, 'lon': 13.3645389},\n",
       "  {'type': 'node', 'id': 177840634, 'lat': 52.5581157, 'lon': 13.3651054},\n",
       "  {'type': 'node', 'id': 177840637, 'lat': 52.5582214, 'lon': 13.3666588},\n",
       "  {'type': 'node', 'id': 177840641, 'lat': 52.5606041, 'lon': 13.3711585},\n",
       "  {'type': 'node', 'id': 177840646, 'lat': 52.5606783, 'lon': 13.3769981},\n",
       "  {'type': 'node', 'id': 177840650, 'lat': 52.5660426, 'lon': 13.3783792},\n",
       "  {'type': 'node', 'id': 177840660, 'lat': 52.5673213, 'lon': 13.3879037},\n",
       "  {'type': 'node', 'id': 195870979, 'lat': 52.6240004, 'lon': 13.3679688},\n",
       "  {'type': 'node', 'id': 195870983, 'lat': 52.623298, 'lon': 13.3685818},\n",
       "  {'type': 'node', 'id': 197362080, 'lat': 52.5278996, 'lon': 13.4238093},\n",
       "  {'type': 'node', 'id': 205344396, 'lat': 52.5289501, 'lon': 13.268555},\n",
       "  {'type': 'node', 'id': 210994425, 'lat': 52.4665726, 'lon': 13.25753},\n",
       "  {'type': 'node', 'id': 212904832, 'lat': 52.5907249, 'lon': 13.5346222},\n",
       "  {'type': 'node', 'id': 218052570, 'lat': 52.5478863, 'lon': 13.270662},\n",
       "  {'type': 'node', 'id': 218052588, 'lat': 52.5424316, 'lon': 13.2735973},\n",
       "  {'type': 'node', 'id': 218096873, 'lat': 52.4596274, 'lon': 13.1812188},\n",
       "  {'type': 'node', 'id': 218096883, 'lat': 52.4718369, 'lon': 13.1881678},\n",
       "  {'type': 'node', 'id': 218100462, 'lat': 52.4786565, 'lon': 13.1872447},\n",
       "  {'type': 'node', 'id': 218100471, 'lat': 52.4826124, 'lon': 13.190158},\n",
       "  {'type': 'node', 'id': 218100475, 'lat': 52.489298, 'lon': 13.1865954},\n",
       "  {'type': 'node', 'id': 218100482, 'lat': 52.4949858, 'lon': 13.1894319},\n",
       "  {'type': 'node', 'id': 218100487, 'lat': 52.4975432, 'lon': 13.1898203},\n",
       "  {'type': 'node', 'id': 218100495, 'lat': 52.5013633, 'lon': 13.2051704},\n",
       "  {'type': 'node', 'id': 218103549, 'lat': 52.5029068, 'lon': 13.2097289},\n",
       "  {'type': 'node', 'id': 218108378, 'lat': 52.4709827, 'lon': 13.1945732},\n",
       "  {'type': 'node', 'id': 218108387, 'lat': 52.4712527, 'lon': 13.1952413},\n",
       "  {'type': 'node', 'id': 218108391, 'lat': 52.4713471, 'lon': 13.1966212},\n",
       "  {'type': 'node', 'id': 218108394, 'lat': 52.4706292, 'lon': 13.1975927},\n",
       "  {'type': 'node', 'id': 218108400, 'lat': 52.4701086, 'lon': 13.1976671},\n",
       "  {'type': 'node', 'id': 218402126, 'lat': 52.511651, 'lon': 13.2164365},\n",
       "  {'type': 'node', 'id': 218402132, 'lat': 52.513994, 'lon': 13.2194564},\n",
       "  {'type': 'node', 'id': 218402138, 'lat': 52.5135763, 'lon': 13.2197518},\n",
       "  {'type': 'node', 'id': 218402145, 'lat': 52.5136221, 'lon': 13.220947},\n",
       "  {'type': 'node', 'id': 218402150, 'lat': 52.5142853, 'lon': 13.2203775},\n",
       "  {'type': 'node', 'id': 218402156, 'lat': 52.5147527, 'lon': 13.22021},\n",
       "  {'type': 'node', 'id': 218402159, 'lat': 52.5204934, 'lon': 13.2195275},\n",
       "  {'type': 'node', 'id': 218402164, 'lat': 52.5160888, 'lon': 13.2199191},\n",
       "  {'type': 'node', 'id': 218402166, 'lat': 52.5212261, 'lon': 13.2195068},\n",
       "  {'type': 'node', 'id': 218402171, 'lat': 52.5218245, 'lon': 13.2196624},\n",
       "  {'type': 'node', 'id': 218402175, 'lat': 52.5222866, 'lon': 13.2198803},\n",
       "  {'type': 'node', 'id': 218417181, 'lat': 52.5261289, 'lon': 13.222042},\n",
       "  {'type': 'node', 'id': 218467183, 'lat': 52.5387995, 'lon': 13.2725901},\n",
       "  {'type': 'node', 'id': 218467242, 'lat': 52.5361465, 'lon': 13.2761636},\n",
       "  {'type': 'node', 'id': 218467252, 'lat': 52.5357219, 'lon': 13.2762459},\n",
       "  {'type': 'node', 'id': 218467260, 'lat': 52.5356389, 'lon': 13.2762749},\n",
       "  {'type': 'node', 'id': 218467270, 'lat': 52.5343628, 'lon': 13.2802897},\n",
       "  {'type': 'node', 'id': 218467286, 'lat': 52.5340744, 'lon': 13.2817215},\n",
       "  {'type': 'node', 'id': 218467297, 'lat': 52.5339814, 'lon': 13.2824665},\n",
       "  {'type': 'node', 'id': 218467353, 'lat': 52.5295766, 'lon': 13.2765886},\n",
       "  {'type': 'node', 'id': 218543216, 'lat': 52.5676686, 'lon': 13.3884006},\n",
       "  {'type': 'node', 'id': 218543233, 'lat': 52.5660215, 'lon': 13.3906288},\n",
       "  {'type': 'node', 'id': 218543238, 'lat': 52.5658028, 'lon': 13.3907186},\n",
       "  {'type': 'node', 'id': 218543244, 'lat': 52.5656243, 'lon': 13.3910316},\n",
       "  {'type': 'node', 'id': 218544569, 'lat': 52.5232087, 'lon': 13.2203014},\n",
       "  {'type': 'node', 'id': 218554116, 'lat': 52.5578893, 'lon': 13.3971372},\n",
       "  {'type': 'node', 'id': 218572594, 'lat': 52.5353996, 'lon': 13.3115043},\n",
       "  {'type': 'node', 'id': 218572614, 'lat': 52.5206209, 'lon': 13.317309},\n",
       "  {'type': 'node', 'id': 218578836, 'lat': 52.5236954, 'lon': 13.3269849},\n",
       "  {'type': 'node', 'id': 218592871, 'lat': 52.5133009, 'lon': 13.3358553},\n",
       "  {'type': 'node', 'id': 218592880, 'lat': 52.5128689, 'lon': 13.3316703},\n",
       "  {'type': 'node', 'id': 218609448, 'lat': 52.5059263, 'lon': 13.3386407},\n",
       "  {'type': 'node', 'id': 218611728, 'lat': 52.5049347, 'lon': 13.3414287},\n",
       "  {'type': 'node', 'id': 218611735, 'lat': 52.5025413, 'lon': 13.3514081},\n",
       "  {'type': 'node', 'id': 218623927, 'lat': 52.499662, 'lon': 13.3625368},\n",
       "  {'type': 'node', 'id': 218623930, 'lat': 52.4995624, 'lon': 13.3630442},\n",
       "  {'type': 'node', 'id': 218623940, 'lat': 52.4999544, 'lon': 13.3708884},\n",
       "  {'type': 'node', 'id': 218623948, 'lat': 52.501634, 'lon': 13.3713442},\n",
       "  {'type': 'node', 'id': 218623954, 'lat': 52.5033823, 'lon': 13.373043},\n",
       "  {'type': 'node', 'id': 218623961, 'lat': 52.504164, 'lon': 13.3736093},\n",
       "  {'type': 'node', 'id': 218623965, 'lat': 52.5032356, 'lon': 13.3746784},\n",
       "  {'type': 'node', 'id': 218627320, 'lat': 52.5069995, 'lon': 13.3789222},\n",
       "  {'type': 'node', 'id': 218739690, 'lat': 52.5117908, 'lon': 13.4236915},\n",
       "  {'type': 'node', 'id': 218739743, 'lat': 52.5182898, 'lon': 13.4263036},\n",
       "  {'type': 'node', 'id': 220304051, 'lat': 52.4997414, 'lon': 13.1952155},\n",
       "  {'type': 'node', 'id': 220304055, 'lat': 52.499792, 'lon': 13.1981897},\n",
       "  {'type': 'node', 'id': 223986408, 'lat': 52.5615832, 'lon': 13.3263487},\n",
       "  {'type': 'node', 'id': 225283001, 'lat': 52.5908977, 'lon': 13.353692},\n",
       "  {'type': 'node', 'id': 225283010, 'lat': 52.5912683, 'lon': 13.3606484},\n",
       "  {'type': 'node', 'id': 225283018, 'lat': 52.5920492, 'lon': 13.3615888},\n",
       "  {'type': 'node', 'id': 225283030, 'lat': 52.5908869, 'lon': 13.3556935},\n",
       "  {'type': 'node', 'id': 225283044, 'lat': 52.5910935, 'lon': 13.3591292},\n",
       "  {'type': 'node', 'id': 225283060, 'lat': 52.599832, 'lon': 13.3708563},\n",
       "  {'type': 'node', 'id': 225283103, 'lat': 52.6065273, 'lon': 13.3754431},\n",
       "  {'type': 'node', 'id': 225283116, 'lat': 52.6077385, 'lon': 13.3762118},\n",
       "  {'type': 'node', 'id': 225283133, 'lat': 52.5900832, 'lon': 13.3475571},\n",
       "  {'type': 'node', 'id': 237919341, 'lat': 52.4678517, 'lon': 13.2723081},\n",
       "  {'type': 'node',\n",
       "   'id': 240111766,\n",
       "   'lat': 52.6262007,\n",
       "   'lon': 13.5439158,\n",
       "   'tags': {'name': 'Schwanebeck',\n",
       "    'place': 'village',\n",
       "    'wikidata': 'Q2253043',\n",
       "    'wikipedia': 'de:Schwanebeck (Panketal)'}},\n",
       "  {'type': 'node', 'id': 241881556, 'lat': 52.4589882, 'lon': 13.347558},\n",
       "  {'type': 'node', 'id': 242658832, 'lat': 52.4892993, 'lon': 13.6252027},\n",
       "  {'type': 'node', 'id': 247764615, 'lat': 52.5672795, 'lon': 13.3873326},\n",
       "  {'type': 'node', 'id': 247765311, 'lat': 52.5673076, 'lon': 13.3871373},\n",
       "  {'type': 'node', 'id': 248078048, 'lat': 52.5066121, 'lon': 13.3339919},\n",
       "  {'type': 'node', 'id': 249125706, 'lat': 52.4699585, 'lon': 13.2150712},\n",
       "  {'type': 'node', 'id': 249446638, 'lat': 52.4665983, 'lon': 13.2530888},\n",
       "  {'type': 'node', 'id': 249450011, 'lat': 52.4696636, 'lon': 13.210195},\n",
       "  {'type': 'node', 'id': 251105717, 'lat': 52.5233808, 'lon': 13.319223},\n",
       "  {'type': 'node', 'id': 251105718, 'lat': 52.5241476, 'lon': 13.3202776},\n",
       "  {'type': 'node', 'id': 251105721, 'lat': 52.5246494, 'lon': 13.3224029},\n",
       "  {'type': 'node', 'id': 251105733, 'lat': 52.5127923, 'lon': 13.3315537},\n",
       "  {'type': 'node', 'id': 251105737, 'lat': 52.5125345, 'lon': 13.3307348},\n",
       "  {'type': 'node', 'id': 253032336, 'lat': 52.5726022, 'lon': 13.2252722},\n",
       "  {'type': 'node', 'id': 253158916, 'lat': 52.5478304, 'lon': 13.3185077},\n",
       "  {'type': 'node', 'id': 255002868, 'lat': 52.4703242, 'lon': 13.2066362},\n",
       "  {'type': 'node', 'id': 255695317, 'lat': 52.6271913, 'lon': 13.3026102},\n",
       "  {'type': 'node',\n",
       "   'id': 257709147,\n",
       "   'lat': 52.5192672,\n",
       "   'lon': 13.195439,\n",
       "   'tags': {'name': 'Spandau',\n",
       "    'name:prefix': 'Bezirk',\n",
       "    'note': 'siehe Relation für Details',\n",
       "    'place': 'borough',\n",
       "    'postal_addr:city': 'Berlin',\n",
       "    'postal_addr:country': 'DE',\n",
       "    'postal_addr:housename': 'Bezirksamt Spandau von Berlin',\n",
       "    'postal_addr:housenumber': '2/6',\n",
       "    'postal_addr:postcode': '13597',\n",
       "    'postal_addr:street': 'Carl-Schurz-Straße'}},\n",
       "  {'type': 'node', 'id': 257723509, 'lat': 52.5674196, 'lon': 13.2274011},\n",
       "  {'type': 'node', 'id': 260040694, 'lat': 52.5912546, 'lon': 13.3605618},\n",
       "  {'type': 'node', 'id': 260567737, 'lat': 52.4033352, 'lon': 13.5167171},\n",
       "  {'type': 'node', 'id': 260567738, 'lat': 52.4035398, 'lon': 13.5170533},\n",
       "  {'type': 'node', 'id': 260567739, 'lat': 52.4049456, 'lon': 13.5192807},\n",
       "  {'type': 'node', 'id': 260567740, 'lat': 52.4051428, 'lon': 13.5189773},\n",
       "  {'type': 'node', 'id': 260567741, 'lat': 52.4063266, 'lon': 13.5207283},\n",
       "  {'type': 'node', 'id': 260567742, 'lat': 52.4064015, 'lon': 13.5206595},\n",
       "  {'type': 'node', 'id': 260567743, 'lat': 52.4068993, 'lon': 13.5213011},\n",
       "  {'type': 'node', 'id': 260567744, 'lat': 52.4072555, 'lon': 13.5217104},\n",
       "  {'type': 'node', 'id': 260567745, 'lat': 52.4074056, 'lon': 13.5218424},\n",
       "  {'type': 'node', 'id': 260567747, 'lat': 52.4107878, 'lon': 13.5231821},\n",
       "  {'type': 'node', 'id': 260567748, 'lat': 52.4110416, 'lon': 13.5228726},\n",
       "  {'type': 'node', 'id': 260567749, 'lat': 52.4116683, 'lon': 13.5234288},\n",
       "  {'type': 'node', 'id': 260567750, 'lat': 52.4121338, 'lon': 13.522957},\n",
       "  {'type': 'node', 'id': 260567751, 'lat': 52.4124309, 'lon': 13.5233979},\n",
       "  {'type': 'node', 'id': 260567752, 'lat': 52.4126393, 'lon': 13.5231626},\n",
       "  {'type': 'node', 'id': 260567753, 'lat': 52.4131969, 'lon': 13.5235647},\n",
       "  {'type': 'node', 'id': 260567754, 'lat': 52.4135961, 'lon': 13.5241327},\n",
       "  {'type': 'node', 'id': 260567755, 'lat': 52.4141527, 'lon': 13.5226219},\n",
       "  {'type': 'node', 'id': 260567756, 'lat': 52.4143144, 'lon': 13.5225687},\n",
       "  {'type': 'node', 'id': 260567758, 'lat': 52.4154553, 'lon': 13.5229788},\n",
       "  {'type': 'node', 'id': 260567759, 'lat': 52.4164192, 'lon': 13.5223656},\n",
       "  {'type': 'node', 'id': 260567760, 'lat': 52.417207, 'lon': 13.5221524},\n",
       "  {'type': 'node', 'id': 260567761, 'lat': 52.4177866, 'lon': 13.5221928},\n",
       "  {'type': 'node', 'id': 260567762, 'lat': 52.4183107, 'lon': 13.5222198},\n",
       "  {'type': 'node', 'id': 260567764, 'lat': 52.4184539, 'lon': 13.5220783},\n",
       "  {'type': 'node', 'id': 260567766, 'lat': 52.4195381, 'lon': 13.5207856},\n",
       "  {'type': 'node', 'id': 260567767, 'lat': 52.4201525, 'lon': 13.5206018},\n",
       "  {'type': 'node', 'id': 260567768, 'lat': 52.4208148, 'lon': 13.5204508},\n",
       "  {'type': 'node', 'id': 260567771, 'lat': 52.4221344, 'lon': 13.518875},\n",
       "  {'type': 'node', 'id': 260567772, 'lat': 52.4222512, 'lon': 13.5187184},\n",
       "  {'type': 'node', 'id': 260644272, 'lat': 52.4937325, 'lon': 13.4277767},\n",
       "  {'type': 'node', 'id': 260647430, 'lat': 52.5198985, 'lon': 13.4729572},\n",
       "  {'type': 'node', 'id': 260647431, 'lat': 52.5191256, 'lon': 13.4735151},\n",
       "  {'type': 'node', 'id': 260647432, 'lat': 52.519038, 'lon': 13.4740753},\n",
       "  {'type': 'node', 'id': 260647433, 'lat': 52.5169059, 'lon': 13.475472},\n",
       "  {'type': 'node', 'id': 260647437, 'lat': 52.5151541, 'lon': 13.4765677},\n",
       "  {'type': 'node', 'id': 260647438, 'lat': 52.5148631, 'lon': 13.4758875},\n",
       "  {'type': 'node', 'id': 260647439, 'lat': 52.5120534, 'lon': 13.475888},\n",
       "  {'type': 'node', 'id': 260647440, 'lat': 52.5111151, 'lon': 13.4761107},\n",
       "  {'type': 'node', 'id': 260647441, 'lat': 52.5109576, 'lon': 13.4761484},\n",
       "  {'type': 'node', 'id': 260647442, 'lat': 52.5104393, 'lon': 13.4762658},\n",
       "  {'type': 'node', 'id': 260647443, 'lat': 52.5100974, 'lon': 13.4757244},\n",
       "  {'type': 'node', 'id': 260647444, 'lat': 52.5094582, 'lon': 13.4752503},\n",
       "  {'type': 'node', 'id': 260647445, 'lat': 52.5083707, 'lon': 13.4742096},\n",
       "  {'type': 'node', 'id': 260647446, 'lat': 52.5080071, 'lon': 13.4738053},\n",
       "  {'type': 'node', 'id': 260647447, 'lat': 52.5069189, 'lon': 13.4734064},\n",
       "  {'type': 'node', 'id': 260647448, 'lat': 52.5067101, 'lon': 13.472832},\n",
       "  {'type': 'node', 'id': 260647450, 'lat': 52.5061089, 'lon': 13.4722603},\n",
       "  {'type': 'node', 'id': 260647451, 'lat': 52.5060408, 'lon': 13.472166},\n",
       "  {'type': 'node', 'id': 260647452, 'lat': 52.5057351, 'lon': 13.4717481},\n",
       "  {'type': 'node', 'id': 260647453, 'lat': 52.5055151, 'lon': 13.4715166},\n",
       "  {'type': 'node', 'id': 260647454, 'lat': 52.5051377, 'lon': 13.4711643},\n",
       "  {'type': 'node', 'id': 260647455, 'lat': 52.5050021, 'lon': 13.4712936},\n",
       "  {'type': 'node', 'id': 260647456, 'lat': 52.5042759, 'lon': 13.4706177},\n",
       "  {'type': 'node', 'id': 260647457, 'lat': 52.5037443, 'lon': 13.4702062},\n",
       "  {'type': 'node', 'id': 260647458, 'lat': 52.5019427, 'lon': 13.4695207},\n",
       "  {'type': 'node', 'id': 260647459, 'lat': 52.4996572, 'lon': 13.4685734},\n",
       "  {'type': 'node', 'id': 260647460, 'lat': 52.5001599, 'lon': 13.4688756},\n",
       "  {'type': 'node', 'id': 260647461, 'lat': 52.4994034, 'lon': 13.4702787},\n",
       "  {'type': 'node', 'id': 260647462, 'lat': 52.4990026, 'lon': 13.4730756},\n",
       "  {'type': 'node', 'id': 260647475, 'lat': 52.4973025, 'lon': 13.4756862},\n",
       "  {'type': 'node', 'id': 260647476, 'lat': 52.4959532, 'lon': 13.4775987},\n",
       "  {'type': 'node', 'id': 260647482, 'lat': 52.4945622, 'lon': 13.4798223},\n",
       "  {'type': 'node', 'id': 260647483, 'lat': 52.4918588, 'lon': 13.4837311},\n",
       "  {'type': 'node', 'id': 260647484, 'lat': 52.4916924, 'lon': 13.4841318},\n",
       "  {'type': 'node', 'id': 260647485, 'lat': 52.4912963, 'lon': 13.4856938},\n",
       "  {'type': 'node', 'id': 260647486, 'lat': 52.4908601, 'lon': 13.4860524},\n",
       "  {'type': 'node', 'id': 260647487, 'lat': 52.4907442, 'lon': 13.4861097},\n",
       "  {'type': 'node', 'id': 260647488, 'lat': 52.490202, 'lon': 13.4876023},\n",
       "  {'type': 'node', 'id': 260647489, 'lat': 52.4898498, 'lon': 13.4885271},\n",
       "  {'type': 'node', 'id': 260647490, 'lat': 52.4892704, 'lon': 13.4887873},\n",
       "  {'type': 'node', 'id': 260647491, 'lat': 52.4882828, 'lon': 13.4914434},\n",
       "  {'type': 'node', 'id': 260647492, 'lat': 52.487359, 'lon': 13.4910096},\n",
       "  {'type': 'node', 'id': 260647493, 'lat': 52.4878137, 'lon': 13.4892758},\n",
       "  {'type': 'node', 'id': 260647494, 'lat': 52.487866, 'lon': 13.4887351},\n",
       "  {'type': 'node', 'id': 260647495, 'lat': 52.4877771, 'lon': 13.4868897},\n",
       "  {'type': 'node', 'id': 260647496, 'lat': 52.4875315, 'lon': 13.4860314},\n",
       "  {'type': 'node', 'id': 260647499, 'lat': 52.487448, 'lon': 13.482049},\n",
       "  {'type': 'node', 'id': 260647500, 'lat': 52.487638, 'lon': 13.481678},\n",
       "  {'type': 'node', 'id': 260647501, 'lat': 52.487868, 'lon': 13.4792383},\n",
       "  {'type': 'node', 'id': 260647503, 'lat': 52.4870327, 'lon': 13.4786285},\n",
       "  {'type': 'node', 'id': 260647504, 'lat': 52.4880826, 'lon': 13.4778861},\n",
       "  {'type': 'node', 'id': 260647505, 'lat': 52.4887795, 'lon': 13.477689},\n",
       "  {'type': 'node', 'id': 260647507, 'lat': 52.4899443, 'lon': 13.476147},\n",
       "  {'type': 'node', 'id': 260647508, 'lat': 52.4903347, 'lon': 13.4754199},\n",
       "  {'type': 'node', 'id': 260647509, 'lat': 52.4910335, 'lon': 13.4737886},\n",
       "  {'type': 'node', 'id': 260647511, 'lat': 52.4923432, 'lon': 13.4684892},\n",
       "  {'type': 'node', 'id': 260647515, 'lat': 52.4942165, 'lon': 13.463195},\n",
       "  {'type': 'node', 'id': 260647516, 'lat': 52.4951129, 'lon': 13.4641615},\n",
       "  {'type': 'node', 'id': 260647517, 'lat': 52.4954855, 'lon': 13.4633549},\n",
       "  {'type': 'node', 'id': 260647518, 'lat': 52.4954437, 'lon': 13.4630717},\n",
       "  {'type': 'node', 'id': 260647520, 'lat': 52.4955378, 'lon': 13.4621962},\n",
       "  {'type': 'node', 'id': 260647521, 'lat': 52.4965568, 'lon': 13.4595955},\n",
       "  {'type': 'node', 'id': 260647522, 'lat': 52.4973698, 'lon': 13.4550436},\n",
       "  {'type': 'node', 'id': 260647524, 'lat': 52.4977068, 'lon': 13.4529296},\n",
       "  {'type': 'node', 'id': 260647530, 'lat': 52.494856, 'lon': 13.4455486},\n",
       "  {'type': 'node', 'id': 260647531, 'lat': 52.4910889, 'lon': 13.440686},\n",
       "  {'type': 'node', 'id': 260647542, 'lat': 52.4951829, 'lon': 13.423316},\n",
       "  {'type': 'node', 'id': 260647543, 'lat': 52.4955905, 'lon': 13.4219508},\n",
       "  {'type': 'node', 'id': 260647545, 'lat': 52.4958638, 'lon': 13.4203999},\n",
       "  {'type': 'node', 'id': 260647546, 'lat': 52.4930834, 'lon': 13.4222972},\n",
       "  {'type': 'node', 'id': 260647550, 'lat': 52.4877802, 'lon': 13.4249381},\n",
       "  {'type': 'node', 'id': 260647551, 'lat': 52.4868285, 'lon': 13.4241585},\n",
       "  {'type': 'node', 'id': 260647555, 'lat': 52.4871637, 'lon': 13.421256},\n",
       "  {'type': 'node', 'id': 260647556, 'lat': 52.4876359, 'lon': 13.4176929},\n",
       "  {'type': 'node', 'id': 260647557, 'lat': 52.4887699, 'lon': 13.4085595},\n",
       "  {'type': 'node', 'id': 260647559, 'lat': 52.4886623, 'lon': 13.4077568},\n",
       "  {'type': 'node', 'id': 260647560, 'lat': 52.4874688, 'lon': 13.4083375},\n",
       "  {'type': 'node', 'id': 260647561, 'lat': 52.4871133, 'lon': 13.4084232},\n",
       "  {'type': 'node', 'id': 260647562, 'lat': 52.4868939, 'lon': 13.4082859},\n",
       "  {'type': 'node', 'id': 260647563, 'lat': 52.4860657, 'lon': 13.4073191},\n",
       "  {'type': 'node', 'id': 260647564, 'lat': 52.4830993, 'lon': 13.404886},\n",
       "  {'type': 'node', 'id': 260647565, 'lat': 52.4833999, 'lon': 13.4034421},\n",
       "  {'type': 'node', 'id': 260647566, 'lat': 52.4835847, 'lon': 13.4023153},\n",
       "  {'type': 'node', 'id': 260647567, 'lat': 52.4837388, 'lon': 13.4012255},\n",
       "  {'type': 'node', 'id': 260647568, 'lat': 52.4838407, 'lon': 13.4001472},\n",
       "  {'type': 'node', 'id': 260647570, 'lat': 52.4857753, 'lon': 13.3942612},\n",
       "  {'type': 'node', 'id': 260647571, 'lat': 52.4858229, 'lon': 13.3862812},\n",
       "  {'type': 'node', 'id': 260647573, 'lat': 52.4848587, 'lon': 13.3862684},\n",
       "  {'type': 'node', 'id': 260647574, 'lat': 52.4848716, 'lon': 13.3848479},\n",
       "  {'type': 'node', 'id': 260647575, 'lat': 52.4849107, 'lon': 13.3847829},\n",
       "  {'type': 'node', 'id': 260647576, 'lat': 52.4849652, 'lon': 13.3768548},\n",
       "  {'type': 'node', 'id': 260647577, 'lat': 52.4851739, 'lon': 13.371719},\n",
       "  {'type': 'node', 'id': 260647580, 'lat': 52.4851671, 'lon': 13.3740185},\n",
       "  {'type': 'node', 'id': 260647582, 'lat': 52.4877505, 'lon': 13.3734818},\n",
       "  {'type': 'node', 'id': 260647583, 'lat': 52.4891099, 'lon': 13.374606},\n",
       "  {'type': 'node', 'id': 260647584, 'lat': 52.4893189, 'lon': 13.3748892},\n",
       "  {'type': 'node', 'id': 260647586, 'lat': 52.4893656, 'lon': 13.375413},\n",
       "  {'type': 'node', 'id': 260647587, 'lat': 52.4904497, 'lon': 13.3754648},\n",
       "  {'type': 'node', 'id': 260647588, 'lat': 52.4915151, 'lon': 13.3764656},\n",
       "  {'type': 'node', 'id': 260647590, 'lat': 52.4927373, 'lon': 13.3710649},\n",
       "  {'type': 'node', 'id': 260688804, 'lat': 52.4265574, 'lon': 13.5205057},\n",
       "  {'type': 'node', 'id': 260688806, 'lat': 52.4270097, 'lon': 13.5156786},\n",
       "  {'type': 'node', 'id': 260688807, 'lat': 52.4272668, 'lon': 13.5136811},\n",
       "  {'type': 'node', 'id': 260688808, 'lat': 52.4281683, 'lon': 13.5097524},\n",
       "  {'type': 'node', 'id': 260688809, 'lat': 52.4289565, 'lon': 13.5072583},\n",
       "  {'type': 'node', 'id': 260688810, 'lat': 52.4321017, 'lon': 13.5007655},\n",
       "  {'type': 'node', 'id': 260688811, 'lat': 52.43341, 'lon': 13.497976},\n",
       "  {'type': 'node', 'id': 260688812, 'lat': 52.435702, 'lon': 13.4931866},\n",
       "  {'type': 'node', 'id': 260688813, 'lat': 52.4381717, 'lon': 13.4882342},\n",
       "  {'type': 'node', 'id': 260688814, 'lat': 52.4418715, 'lon': 13.480441},\n",
       "  {'type': 'node', 'id': 260688815, 'lat': 52.4433511, 'lon': 13.4776699},\n",
       "  {'type': 'node', 'id': 260688816, 'lat': 52.4469305, 'lon': 13.4700555},\n",
       "  {'type': 'node', 'id': 260688817, 'lat': 52.4494729, 'lon': 13.4649915},\n",
       "  {'type': 'node', 'id': 260688818, 'lat': 52.4502418, 'lon': 13.4639358},\n",
       "  {'type': 'node', 'id': 260688819, 'lat': 52.4511311, 'lon': 13.4630174},\n",
       "  {'type': 'node', 'id': 260688820, 'lat': 52.4520569, 'lon': 13.4622192},\n",
       "  {'type': 'node', 'id': 260688822, 'lat': 52.4541031, 'lon': 13.4608012},\n",
       "  {'type': 'node', 'id': 260688823, 'lat': 52.4551064, 'lon': 13.4600906},\n",
       "  {'type': 'node', 'id': 260688824, 'lat': 52.4563616, 'lon': 13.4592323},\n",
       "  {'type': 'node', 'id': 260688825, 'lat': 52.4581556, 'lon': 13.4577131},\n",
       "  {'type': 'node', 'id': 260688826, 'lat': 52.459118, 'lon': 13.4569705},\n",
       "  {'type': 'node', 'id': 260688827, 'lat': 52.4592357, 'lon': 13.4573529},\n",
       "  {'type': 'node', 'id': 260688828, 'lat': 52.4590656, 'lon': 13.4637041},\n",
       "  {'type': 'node', 'id': 260688829, 'lat': 52.4588624, 'lon': 13.4715476},\n",
       "  {'type': 'node', 'id': 260688830, 'lat': 52.4587633, 'lon': 13.4749713},\n",
       "  {'type': 'node', 'id': 260688831, 'lat': 52.4591937, 'lon': 13.4749512},\n",
       "  {'type': 'node', 'id': 260688832, 'lat': 52.4594705, 'lon': 13.4749768},\n",
       "  {'type': 'node', 'id': 260688833, 'lat': 52.4599101, 'lon': 13.4751825},\n",
       "  {'type': 'node', 'id': 260688834, 'lat': 52.4603268, 'lon': 13.4754454},\n",
       "  {'type': 'node', 'id': 260688835, 'lat': 52.4609152, 'lon': 13.475804},\n",
       "  {'type': 'node', 'id': 260688836, 'lat': 52.4615619, 'lon': 13.4766429},\n",
       "  {'type': 'node', 'id': 260688837, 'lat': 52.4619892, 'lon': 13.4771968},\n",
       "  {'type': 'node', 'id': 260688838, 'lat': 52.4626972, 'lon': 13.4776765},\n",
       "  {'type': 'node', 'id': 260688839, 'lat': 52.4633695, 'lon': 13.4781339},\n",
       "  {'type': 'node', 'id': 260688840, 'lat': 52.4639858, 'lon': 13.4785501},\n",
       "  {'type': 'node', 'id': 260688841, 'lat': 52.4649879, 'lon': 13.4784771},\n",
       "  {'type': 'node', 'id': 260688842, 'lat': 52.4652375, 'lon': 13.4783366},\n",
       "  {'type': 'node', 'id': 260688843, 'lat': 52.4665545, 'lon': 13.4769546},\n",
       "  {'type': 'node', 'id': 260688844, 'lat': 52.4680203, 'lon': 13.4751541},\n",
       "  {'type': 'node', 'id': 260688845, 'lat': 52.4702003, 'lon': 13.4728854},\n",
       "  {'type': 'node', 'id': 260688846, 'lat': 52.473026, 'lon': 13.4700471},\n",
       "  {'type': 'node', 'id': 260688848, 'lat': 52.4743987, 'lon': 13.4697902},\n",
       "  {'type': 'node', 'id': 260688849, 'lat': 52.4760111, 'lon': 13.47038},\n",
       "  {'type': 'node', 'id': 260688850, 'lat': 52.4769091, 'lon': 13.4705734},\n",
       "  {'type': 'node', 'id': 260688851, 'lat': 52.4773526, 'lon': 13.4699438},\n",
       "  {'type': 'node', 'id': 260688852, 'lat': 52.481536, 'lon': 13.4640048},\n",
       "  {'type': 'node', 'id': 260688853, 'lat': 52.4858194, 'lon': 13.4581365},\n",
       "  {'type': 'node', 'id': 260688854, 'lat': 52.4842532, 'lon': 13.4560669},\n",
       "  {'type': 'node', 'id': 260688855, 'lat': 52.4871484, 'lon': 13.4504433},\n",
       "  {'type': 'node', 'id': 260688856, 'lat': 52.4879826, 'lon': 13.4486583},\n",
       "  {'type': 'node', 'id': 260688857, 'lat': 52.4889535, 'lon': 13.4467642},\n",
       "  {'type': 'node', 'id': 260688858, 'lat': 52.4874576, 'lon': 13.4444472},\n",
       "  {'type': 'node', 'id': 260688875, 'lat': 52.4896586, 'lon': 13.4396278},\n",
       "  {'type': 'node', 'id': 260693380, 'lat': 52.4871841, 'lon': 13.4914136},\n",
       "  {'type': 'node', 'id': 260693381, 'lat': 52.485637, 'lon': 13.4930015},\n",
       "  {'type': 'node', 'id': 260693382, 'lat': 52.4838766, 'lon': 13.4938577},\n",
       "  {'type': 'node', 'id': 260694044, 'lat': 52.4831241, 'lon': 13.4941951},\n",
       "  {'type': 'node', 'id': 260694047, 'lat': 52.4824494, 'lon': 13.5019663},\n",
       "  {'type': 'node', 'id': 260694631, 'lat': 52.4801895, 'lon': 13.5031442},\n",
       "  {'type': 'node', 'id': 260694632, 'lat': 52.4782815, 'lon': 13.5041913},\n",
       "  {'type': 'node', 'id': 260694633, 'lat': 52.4780671, 'lon': 13.5043372},\n",
       "  {'type': 'node', 'id': 260694635, 'lat': 52.4749148, 'lon': 13.5077876},\n",
       "  {'type': 'node', 'id': 260694636, 'lat': 52.4754898, 'lon': 13.5116586},\n",
       "  {'type': 'node', 'id': 260694637, 'lat': 52.475746, 'lon': 13.513461},\n",
       "  {'type': 'node', 'id': 260694638, 'lat': 52.4757774, 'lon': 13.5140361},\n",
       "  {'type': 'node', 'id': 260694639, 'lat': 52.4757669, 'lon': 13.5144996},\n",
       "  {'type': 'node', 'id': 260694640, 'lat': 52.4757356, 'lon': 13.5149888},\n",
       "  {'type': 'node', 'id': 260694641, 'lat': 52.475678, 'lon': 13.5154866},\n",
       "  {'type': 'node', 'id': 260694642, 'lat': 52.4755996, 'lon': 13.5158643},\n",
       "  {'type': 'node', 'id': 260694643, 'lat': 52.475448, 'lon': 13.5163106},\n",
       "  {'type': 'node', 'id': 260694644, 'lat': 52.4740103, 'lon': 13.5205678},\n",
       "  {'type': 'node', 'id': 260694645, 'lat': 52.4751713, 'lon': 13.5217732},\n",
       "  {'type': 'node', 'id': 260694651, 'lat': 52.4678355, 'lon': 13.5306615},\n",
       "  {'type': 'node', 'id': 260694721, 'lat': 52.4690538, 'lon': 13.5323867},\n",
       "  {'type': 'node', 'id': 260694722, 'lat': 52.4735882, 'lon': 13.5381187},\n",
       "  {'type': 'node', 'id': 260696042, 'lat': 52.4749399, 'lon': 13.5398694},\n",
       "  {'type': 'node', 'id': 260696043, 'lat': 52.4740094, 'lon': 13.5420838},\n",
       "  {'type': 'node', 'id': 260696044, 'lat': 52.4732732, 'lon': 13.5484666},\n",
       "  {'type': 'node', 'id': 260696045, 'lat': 52.4738221, 'lon': 13.5481195},\n",
       "  {'type': 'node', 'id': 260696046, 'lat': 52.4738848, 'lon': 13.5489949},\n",
       "  {'type': 'node', 'id': 260696047, 'lat': 52.4738221, 'lon': 13.5494842},\n",
       "  {'type': 'node', 'id': 260696048, 'lat': 52.4736757, 'lon': 13.5503596},\n",
       "  {'type': 'node', 'id': 260696049, 'lat': 52.4736182, 'lon': 13.5508832},\n",
       "  {'type': 'node', 'id': 260696050, 'lat': 52.4736503, 'lon': 13.5525971},\n",
       "  {'type': 'node', 'id': 260696052, 'lat': 52.4736118, 'lon': 13.5550717},\n",
       "  {'type': 'node', 'id': 260696053, 'lat': 52.4733568, 'lon': 13.5567454},\n",
       "  {'type': 'node', 'id': 260696054, 'lat': 52.4732313, 'lon': 13.5578612},\n",
       "  {'type': 'node', 'id': 260696055, 'lat': 52.4732052, 'lon': 13.5591916},\n",
       "  {'type': 'node', 'id': 260696056, 'lat': 52.4733045, 'lon': 13.5628738},\n",
       "  {'type': 'node', 'id': 260696057, 'lat': 52.4738273, 'lon': 13.5652255},\n",
       "  {'type': 'node', 'id': 260696058, 'lat': 52.4735764, 'lon': 13.5654487},\n",
       "  {'type': 'node', 'id': 260696059, 'lat': 52.4737384, 'lon': 13.5666932},\n",
       "  {'type': 'node', 'id': 260696060, 'lat': 52.4737489, 'lon': 13.566985},\n",
       "  {'type': 'node', 'id': 260696061, 'lat': 52.473958, 'lon': 13.5671138},\n",
       "  {'type': 'node', 'id': 260696062, 'lat': 52.4742299, 'lon': 13.5673713},\n",
       "  {'type': 'node', 'id': 260696063, 'lat': 52.4744076, 'lon': 13.5675429},\n",
       "  {'type': 'node', 'id': 260696064, 'lat': 52.4751082, 'lon': 13.5693711},\n",
       "  {'type': 'node', 'id': 260696497, 'lat': 52.4760126, 'lon': 13.5716457},\n",
       "  {'type': 'node', 'id': 260696498, 'lat': 52.4767968, 'lon': 13.5736713},\n",
       "  {'type': 'node', 'id': 260696499, 'lat': 52.4765511, 'lon': 13.5736884},\n",
       "  {'type': 'node', 'id': 260696500, 'lat': 52.4764727, 'lon': 13.5737914},\n",
       "  {'type': 'node', 'id': 260696501, 'lat': 52.4764727, 'lon': 13.5739202},\n",
       "  {'type': 'node', 'id': 260696502, 'lat': 52.4765563, 'lon': 13.574006},\n",
       "  {'type': 'node', 'id': 260696503, 'lat': 52.4768648, 'lon': 13.5739631},\n",
       "  {'type': 'node', 'id': 260696504, 'lat': 52.4778699, 'lon': 13.5746596},\n",
       "  {'type': 'node', 'id': 260696505, 'lat': 52.4794786, 'lon': 13.5751561},\n",
       "  {'type': 'node', 'id': 260696506, 'lat': 52.4810314, 'lon': 13.5797147},\n",
       "  {'type': 'node', 'id': 260696507, 'lat': 52.4799688, 'lon': 13.5818628},\n",
       "  {'type': 'node', 'id': 260696508, 'lat': 52.4759759, 'lon': 13.5967804},\n",
       "  {'type': 'node', 'id': 260696513, 'lat': 52.4756313, 'lon': 13.5973375},\n",
       "  {'type': 'node', 'id': 260696514, 'lat': 52.4753841, 'lon': 13.5978515},\n",
       "  {'type': 'node', 'id': 260696515, 'lat': 52.4751613, 'lon': 13.5983222},\n",
       "  {'type': 'node', 'id': 260696516, 'lat': 52.4743906, 'lon': 13.5996178},\n",
       "  {'type': 'node', 'id': 260696597, 'lat': 52.4740749, 'lon': 13.6004225},\n",
       "  {'type': 'node', 'id': 260696598, 'lat': 52.4734352, 'lon': 13.601798},\n",
       "  {'type': 'node', 'id': 260696599, 'lat': 52.4727898, 'lon': 13.6030608},\n",
       "  {'type': 'node', 'id': 260696600, 'lat': 52.4729027, 'lon': 13.6048972},\n",
       "  {'type': 'node', 'id': 260696601, 'lat': 52.4728503, 'lon': 13.6083759},\n",
       "  {'type': 'node', 'id': 260696602, 'lat': 52.4710868, 'lon': 13.608154},\n",
       "  {'type': 'node', 'id': 260737419, 'lat': 52.4860501, 'lon': 13.4829538},\n",
       "  {'type': 'node', 'id': 260933982, 'lat': 52.5137819, 'lon': 13.3360312},\n",
       "  {'type': 'node', 'id': 261005012, 'lat': 52.3736244, 'lon': 13.6058208},\n",
       "  {'type': 'node', 'id': 261044734, 'lat': 52.5602541, 'lon': 13.3213191},\n",
       "  {'type': 'node', 'id': 261236114, 'lat': 52.3938127, 'lon': 13.5926967},\n",
       "  {'type': 'node', 'id': 261599672, 'lat': 52.4266203, 'lon': 13.5202823},\n",
       "  {'type': 'node', 'id': 261599673, 'lat': 52.4267279, 'lon': 13.5199511},\n",
       "  {'type': 'node', 'id': 261705869, 'lat': 52.4773546, 'lon': 13.3204008},\n",
       "  {'type': 'node', 'id': 261705888, 'lat': 52.4774374, 'lon': 13.3288294},\n",
       "  {'type': 'node', 'id': 261705899, 'lat': 52.5031907, 'lon': 13.3395347},\n",
       "  {'type': 'node', 'id': 261712574, 'lat': 52.4972687, 'lon': 13.4510076},\n",
       "  {'type': 'node', 'id': 261712575, 'lat': 52.4975232, 'lon': 13.452013},\n",
       "  {'type': 'node', 'id': 261716800, 'lat': 52.4701325, 'lon': 13.4729597},\n",
       "  {'type': 'node', 'id': 261731931, 'lat': 52.4587783, 'lon': 13.4744335},\n",
       "  {'type': 'node', 'id': 261756920, 'lat': 52.4906975, 'lon': 13.4372969},\n",
       "  {'type': 'node', 'id': 261756926, 'lat': 52.4905074, 'lon': 13.4398107},\n",
       "  {'type': 'node', 'id': 261757747, 'lat': 52.494545, 'lon': 13.4451616},\n",
       "  {'type': 'node', 'id': 261973146, 'lat': 52.4926872, 'lon': 13.4670566},\n",
       "  {'type': 'node', 'id': 262029642, 'lat': 52.4902456, 'lon': 13.4397152},\n",
       "  {'type': 'node', 'id': 262188569, 'lat': 52.5898672, 'lon': 13.5384334},\n",
       "  {'type': 'node', 'id': 262202997, 'lat': 52.4400502, 'lon': 13.4842104},\n",
       "  {'type': 'node', 'id': 262485446, 'lat': 52.5063666, 'lon': 13.427689},\n",
       "  {'type': 'node', 'id': 263213344, 'lat': 52.428853, 'lon': 13.7389354},\n",
       "  {'type': 'node', 'id': 272344606, 'lat': 52.5008675, 'lon': 13.3369059},\n",
       "  {'type': 'node', 'id': 272344613, 'lat': 52.4994827, 'lon': 13.3389388},\n",
       "  {'type': 'node', 'id': 272344616, 'lat': 52.4978387, 'lon': 13.3379785},\n",
       "  {'type': 'node', 'id': 272344618, 'lat': 52.4958626, 'lon': 13.3372728},\n",
       "  {'type': 'node', 'id': 272365393, 'lat': 52.5100754, 'lon': 13.3300432},\n",
       "  {'type': 'node', 'id': 272433581, 'lat': 52.4944841, 'lon': 13.337462},\n",
       "  {'type': 'node', 'id': 272433583, 'lat': 52.4923016, 'lon': 13.3371253},\n",
       "  {'type': 'node', 'id': 272433584, 'lat': 52.4910006, 'lon': 13.3370663},\n",
       "  {'type': 'node', 'id': 272433585, 'lat': 52.4907224, 'lon': 13.3375528},\n",
       "  {'type': 'node', 'id': 272433586, 'lat': 52.4903618, 'lon': 13.3369497},\n",
       "  {'type': 'node', 'id': 272433589, 'lat': 52.4896794, 'lon': 13.3368996},\n",
       "  {'type': 'node', 'id': 272433590, 'lat': 52.4880485, 'lon': 13.3372152},\n",
       "  {'type': 'node', 'id': 272433591, 'lat': 52.4859231, 'lon': 13.3370569},\n",
       "  {'type': 'node', 'id': 272433593, 'lat': 52.4807077, 'lon': 13.3370519},\n",
       "  {'type': 'node', 'id': 272433594, 'lat': 52.4803542, 'lon': 13.3371689},\n",
       "  {'type': 'node', 'id': 272433597, 'lat': 52.4789126, 'lon': 13.3370654},\n",
       "  {'type': 'node', 'id': 272433599, 'lat': 52.4778486, 'lon': 13.3329854},\n",
       "  {'type': 'node', 'id': 272433601, 'lat': 52.4774162, 'lon': 13.3328676},\n",
       "  {'type': 'node', 'id': 272439217, 'lat': 52.4669971, 'lon': 13.3200013},\n",
       "  {'type': 'node', 'id': 272445138, 'lat': 52.4671128, 'lon': 13.3115754},\n",
       "  {'type': 'node', 'id': 272445139, 'lat': 52.4671131, 'lon': 13.3111402},\n",
       "  {'type': 'node', 'id': 272445140, 'lat': 52.4670619, 'lon': 13.3109332},\n",
       "  {'type': 'node', 'id': 272445141, 'lat': 52.4669318, 'lon': 13.3106939},\n",
       "  {'type': 'node', 'id': 272445142, 'lat': 52.4672428, 'lon': 13.30999},\n",
       "  {'type': 'node', 'id': 272445143, 'lat': 52.4674334, 'lon': 13.3095944},\n",
       "  {'type': 'node', 'id': 272445145, 'lat': 52.4677169, 'lon': 13.3090597},\n",
       "  {'type': 'node', 'id': 272445146, 'lat': 52.4674566, 'lon': 13.3085345},\n",
       "  {'type': 'node', 'id': 272445148, 'lat': 52.4675906, 'lon': 13.3082946},\n",
       "  {'type': 'node', 'id': 272445149, 'lat': 52.4678631, 'lon': 13.3075544},\n",
       "  {'type': 'node', 'id': 272445167, 'lat': 52.4675672, 'lon': 13.3065926},\n",
       "  {'type': 'node', 'id': 272445168, 'lat': 52.4689536, 'lon': 13.2980835},\n",
       "  {'type': 'node', 'id': 272468825, 'lat': 52.4704398, 'lon': 13.2902046},\n",
       "  {'type': 'node', 'id': 272468829, 'lat': 52.4705306, 'lon': 13.2892423},\n",
       "  {'type': 'node', 'id': 272468831, 'lat': 52.46853, 'lon': 13.2786883},\n",
       "  {'type': 'node', 'id': 272468833, 'lat': 52.4689034, 'lon': 13.2812577},\n",
       "  {'type': 'node', 'id': 273802928, 'lat': 52.6229755, 'lon': 13.3379079},\n",
       "  {'type': 'node', 'id': 274216781, 'lat': 52.4669598, 'lon': 13.3210337},\n",
       "  {'type': 'node', 'id': 274216782, 'lat': 52.464473, 'lon': 13.3281485},\n",
       "  {'type': 'node', 'id': 274216784, 'lat': 52.4656736, 'lon': 13.3293748},\n",
       "  {'type': 'node', 'id': 274216785, 'lat': 52.4652104, 'lon': 13.3307696},\n",
       "  {'type': 'node', 'id': 274216786, 'lat': 52.4658215, 'lon': 13.331437},\n",
       "  {'type': 'node', 'id': 274216787, 'lat': 52.4662693, 'lon': 13.3346602},\n",
       "  {'type': 'node', 'id': 274216788, 'lat': 52.4661983, 'lon': 13.3348484},\n",
       "  {'type': 'node', 'id': 274216789, 'lat': 52.4674461, 'lon': 13.3362902},\n",
       "  {'type': 'node', 'id': 274216791, 'lat': 52.4663747, 'lon': 13.3384772},\n",
       "  {'type': 'node', 'id': 274216792, 'lat': 52.4665662, 'lon': 13.3387892},\n",
       "  {'type': 'node', 'id': 274216793, 'lat': 52.4655533, 'lon': 13.3388827},\n",
       "  {'type': 'node', 'id': 274227227, 'lat': 52.4616763, 'lon': 13.344969},\n",
       "  {'type': 'node', 'id': 274227229, 'lat': 52.4591536, 'lon': 13.3477134},\n",
       "  {'type': 'node', 'id': 274227230, 'lat': 52.4578746, 'lon': 13.3490712},\n",
       "  {'type': 'node', 'id': 274227231, 'lat': 52.456778, 'lon': 13.349081},\n",
       "  {'type': 'node', 'id': 274227234, 'lat': 52.4567301, 'lon': 13.3509211},\n",
       "  {'type': 'node', 'id': 274227235, 'lat': 52.4567698, 'lon': 13.3514841},\n",
       "  {'type': 'node', 'id': 274227236, 'lat': 52.4570692, 'lon': 13.3524691},\n",
       "  {'type': 'node', 'id': 274227237, 'lat': 52.4571248, 'lon': 13.3529836},\n",
       "  {'type': 'node', 'id': 274227238, 'lat': 52.4570239, 'lon': 13.3533289},\n",
       "  {'type': 'node', 'id': 274227241, 'lat': 52.4566799, 'lon': 13.3537145},\n",
       "  {'type': 'node', 'id': 274227242, 'lat': 52.4563262, 'lon': 13.3538697},\n",
       "  {'type': 'node', 'id': 274227243, 'lat': 52.4558599, 'lon': 13.3542032},\n",
       "  {'type': 'node', 'id': 274227244, 'lat': 52.4556509, 'lon': 13.3542161},\n",
       "  {'type': 'node', 'id': 274227245, 'lat': 52.4556154, 'lon': 13.3561182},\n",
       "  {'type': 'node', 'id': 274227248, 'lat': 52.4556219, 'lon': 13.3559727},\n",
       "  {'type': 'node', 'id': 274227267, 'lat': 52.4552704, 'lon': 13.3562495},\n",
       "  {'type': 'node', 'id': 274227268, 'lat': 52.4540933, 'lon': 13.3569067},\n",
       "  {'type': 'node', 'id': 274232448, 'lat': 52.4496879, 'lon': 13.3594649},\n",
       "  {'type': 'node', 'id': 274232450, 'lat': 52.4486349, 'lon': 13.3601505},\n",
       "  {'type': 'node', 'id': 274232451, 'lat': 52.4470183, 'lon': 13.3610445},\n",
       "  {'type': 'node', 'id': 274232453, 'lat': 52.446976, 'lon': 13.3610696},\n",
       "  {'type': 'node', 'id': 274232454, 'lat': 52.4468509, 'lon': 13.3612035},\n",
       "  {'type': 'node', 'id': 274241910, 'lat': 52.4675372, 'lon': 13.2478355},\n",
       "  {'type': 'node', 'id': 274241911, 'lat': 52.4666968, 'lon': 13.2527783},\n",
       "  {'type': 'node', 'id': 274241913, 'lat': 52.4667302, 'lon': 13.2523879},\n",
       "  {'type': 'node', 'id': 274241916, 'lat': 52.4683578, 'lon': 13.2430243},\n",
       "  {'type': 'node', 'id': 274241917, 'lat': 52.4692053, 'lon': 13.2380598},\n",
       "  {'type': 'node', 'id': 275673757, 'lat': 52.5288315, 'lon': 13.2659745},\n",
       "  {'type': 'node', 'id': 276985095, 'lat': 52.4117268, 'lon': 13.3429367},\n",
       "  {'type': 'node', 'id': 276985096, 'lat': 52.4126279, 'lon': 13.343172},\n",
       "  {'type': 'node', 'id': 276985097, 'lat': 52.4135531, 'lon': 13.3430772},\n",
       "  {'type': 'node', 'id': 276985098, 'lat': 52.414218, 'lon': 13.3426696},\n",
       "  {'type': 'node', 'id': 276985099, 'lat': 52.4152436, 'lon': 13.3457009},\n",
       "  {'type': 'node', 'id': 276985114, 'lat': 52.4199411, 'lon': 13.3592687},\n",
       "  {'type': 'node', 'id': 276985115, 'lat': 52.4200574, 'lon': 13.3592109},\n",
       "  {'type': 'node', 'id': 276985116, 'lat': 52.4206346, 'lon': 13.3604993},\n",
       "  {'type': 'node', 'id': 276985117, 'lat': 52.4215014, 'lon': 13.3634312},\n",
       "  {'type': 'node', 'id': 276985118, 'lat': 52.42739, 'lon': 13.3677697},\n",
       "  {'type': 'node', 'id': 276985120, 'lat': 52.4276048, 'lon': 13.3679258},\n",
       "  {'type': 'node', 'id': 276985122, 'lat': 52.4275543, 'lon': 13.3681977},\n",
       "  {'type': 'node', 'id': 276985123, 'lat': 52.4287997, 'lon': 13.371156},\n",
       "  {'type': 'node', 'id': 276985125, 'lat': 52.428905, 'lon': 13.371105},\n",
       "  {'type': 'node', 'id': 276985126, 'lat': 52.42919, 'lon': 13.3715562},\n",
       "  {'type': 'node', 'id': 276991129, 'lat': 52.4180204, 'lon': 13.3994933},\n",
       "  {'type': 'node', 'id': 278523165, 'lat': 52.4995204, 'lon': 13.4694804},\n",
       "  {'type': 'node', 'id': 282032521, 'lat': 52.4943493, 'lon': 13.4631743},\n",
       "  {'type': 'node', 'id': 288781394, 'lat': 52.5620214, 'lon': 13.3568789},\n",
       "  {'type': 'node', 'id': 288787109, 'lat': 52.5183933, 'lon': 13.4259266},\n",
       "  {'type': 'node', 'id': 289324511, 'lat': 52.5054269, 'lon': 13.3388903},\n",
       "  {'type': 'node', 'id': 293147519, 'lat': 52.4858053, 'lon': 13.3910655},\n",
       "  {'type': 'node', 'id': 297504686, 'lat': 52.4679402, 'lon': 13.272446},\n",
       "  {'type': 'node', 'id': 297892213, 'lat': 52.509347, 'lon': 13.2118605},\n",
       "  {'type': 'node', 'id': 301348473, 'lat': 52.4427362, 'lon': 13.478685},\n",
       "  {'type': 'node', 'id': 301882970, 'lat': 52.5675367, 'lon': 13.3853461},\n",
       "  {'type': 'node', 'id': 303035513, 'lat': 52.399988, 'lon': 13.5370584},\n",
       "  {'type': 'node', 'id': 304235208, 'lat': 52.5674612, 'lon': 13.385948},\n",
       "  {'type': 'node', 'id': 310198448, 'lat': 52.5096326, 'lon': 13.4754191},\n",
       "  {'type': 'node', 'id': 310433281, 'lat': 52.5300598, 'lon': 13.2808473},\n",
       "  {'type': 'node', 'id': 313383222, 'lat': 52.4672668, 'lon': 13.2665194},\n",
       "  {'type': 'node', 'id': 319579613, 'lat': 52.520244, 'lon': 13.4287208},\n",
       "  {'type': 'node', 'id': 323256086, 'lat': 52.3704682, 'lon': 13.6435328},\n",
       "  {'type': 'node', 'id': 323256275, 'lat': 52.403051, 'lon': 13.4776004},\n",
       "  {'type': 'node', 'id': 323257277, 'lat': 52.4188971, 'lon': 13.2471439},\n",
       "  {'type': 'node', 'id': 323257456, 'lat': 52.5430653, 'lon': 13.631842},\n",
       "  {'type': 'node', 'id': 323258335, 'lat': 52.5873048, 'lon': 13.1289619},\n",
       "  {'type': 'node', 'id': 323258508, 'lat': 52.6224424, 'lon': 13.505628},\n",
       "  {'type': 'node', 'id': 323258750, 'lat': 52.4941989, 'lon': 13.6240057},\n",
       "  {'type': 'node', 'id': 323259166, 'lat': 52.6520402, 'lon': 13.4701569},\n",
       "  {'type': 'node', 'id': 323259515, 'lat': 52.4211746, 'lon': 13.2459511},\n",
       "  {'type': 'node', 'id': 323260507, 'lat': 52.3383516, 'lon': 13.6487143},\n",
       "  {'type': 'node', 'id': 323262053, 'lat': 52.6260675, 'lon': 13.3251263},\n",
       "  {'type': 'node', 'id': 323262687, 'lat': 52.4191136, 'lon': 13.4684198},\n",
       "  {'type': 'node', 'id': 323264658, 'lat': 52.6274652, 'lon': 13.2542087},\n",
       "  {'type': 'node', 'id': 323265458, 'lat': 52.624582, 'lon': 13.5057741},\n",
       "  {'type': 'node', 'id': 323267896, 'lat': 52.4687784, 'lon': 13.6232189},\n",
       "  {'type': 'node', 'id': 323268558, 'lat': 52.6272329, 'lon': 13.3706142},\n",
       "  {'type': 'node', 'id': 323268714, 'lat': 52.533584, 'lon': 13.6248099},\n",
       "  {'type': 'node', 'id': 323268904, 'lat': 52.5574184, 'lon': 13.5866227},\n",
       "  {'type': 'node', 'id': 323270445, 'lat': 52.573299, 'lon': 13.5702696},\n",
       "  {'type': 'node', 'id': 323270677, 'lat': 52.6691111, 'lon': 13.487972},\n",
       "  {'type': 'node', 'id': 323271660, 'lat': 52.5298344, 'lon': 13.6445027},\n",
       "  {'type': 'node', 'id': 323272216, 'lat': 52.4175989, 'lon': 13.4492066},\n",
       "  {'type': 'node', 'id': 323272391, 'lat': 52.4153709, 'lon': 13.4425433},\n",
       "  {'type': 'node', 'id': 323273016, 'lat': 52.4012568, 'lon': 13.5140227},\n",
       "  {'type': 'node', 'id': 323273632, 'lat': 52.653155, 'lon': 13.4718085},\n",
       "  {'type': 'node', 'id': 323274748, 'lat': 52.419607, 'lon': 13.7314357},\n",
       "  {'type': 'node', 'id': 323274856, 'lat': 52.6282167, 'lon': 13.2417401},\n",
       "  {'type': 'node', 'id': 323275650, 'lat': 52.6148902, 'lon': 13.2115591},\n",
       "  {'type': 'node', 'id': 323275677, 'lat': 52.3991062, 'lon': 13.3120638},\n",
       "  {'type': 'node', 'id': 323276960, 'lat': 52.4682802, 'lon': 13.6990758},\n",
       "  {'type': 'node', 'id': 323277476, 'lat': 52.5055565, 'lon': 13.6289009},\n",
       "  {'type': 'node', 'id': 323277607, 'lat': 52.6666935, 'lon': 13.4756599},\n",
       "  {'type': 'node', 'id': 323277608, 'lat': 52.6240428, 'lon': 13.3596623},\n",
       "  {'type': 'node', 'id': 323277968, 'lat': 52.6423151, 'lon': 13.3904305},\n",
       "  {'type': 'node', 'id': 323278304, 'lat': 52.6389021, 'lon': 13.3897589},\n",
       "  {'type': 'node', 'id': 323278887, 'lat': 52.5711074, 'lon': 13.5815424},\n",
       "  {'type': 'node', 'id': 323278965, 'lat': 52.625089, 'lon': 13.3637467},\n",
       "  {'type': 'node', 'id': 323279250, 'lat': 52.6374834, 'lon': 13.4287444},\n",
       "  {'type': 'node', 'id': 323279826, 'lat': 52.4650183, 'lon': 13.6893136},\n",
       "  {'type': 'node', 'id': 323280833, 'lat': 52.646947, 'lon': 13.5192654},\n",
       "  {'type': 'node', 'id': 323280936, 'lat': 52.4078989, 'lon': 13.7384258},\n",
       "  {'type': 'node', 'id': 323281522, 'lat': 52.3761384, 'lon': 13.4208126},\n",
       "  {'type': 'node', 'id': 323281847, 'lat': 52.6500258, 'lon': 13.4474896},\n",
       "  {'type': 'node', 'id': 323283895, 'lat': 52.3884274, 'lon': 13.3703524},\n",
       "  {'type': 'node', 'id': 323285959, 'lat': 52.6256709, 'lon': 13.3274426},\n",
       "  {'type': 'node', 'id': 323286106, 'lat': 52.6227629, 'lon': 13.3513648},\n",
       "  {'type': 'node', 'id': 323286191, 'lat': 52.6252536, 'lon': 13.3650102},\n",
       "  {'type': 'node', 'id': 323286641, 'lat': 52.4936866, 'lon': 13.6255589},\n",
       "  {'type': 'node', 'id': 323287016, 'lat': 52.654426, 'lon': 13.2820878},\n",
       "  {'type': 'node', 'id': 323287168, 'lat': 52.4745214, 'lon': 13.6599446},\n",
       "  {'type': 'node', 'id': 323287827, 'lat': 52.465786, 'lon': 13.7009694},\n",
       "  {'type': 'node', 'id': 323288766, 'lat': 52.6498518, 'lon': 13.4509771},\n",
       "  {'type': 'node', 'id': 323288821, 'lat': 52.5989922, 'lon': 13.2082024},\n",
       "  {'type': 'node', 'id': 323288840, 'lat': 52.4779756, 'lon': 13.6506879},\n",
       "  {'type': 'node', 'id': 323289166, 'lat': 52.6273904, 'lon': 13.2303853},\n",
       "  {'type': 'node', 'id': 323289438, 'lat': 52.381666, 'lon': 13.6037183},\n",
       "  {'type': 'node', 'id': 323289865, 'lat': 52.5733351, 'lon': 13.5696238},\n",
       "  {'type': 'node', 'id': 323290037, 'lat': 52.4336273, 'lon': 13.7311137},\n",
       "  {'type': 'node', 'id': 323290754, 'lat': 52.4314104, 'lon': 13.7398478},\n",
       "  {'type': 'node', 'id': 323290947, 'lat': 52.4181584, 'lon': 13.4688392},\n",
       "  {'type': 'node', 'id': 323291026, 'lat': 52.5732374, 'lon': 13.5714108},\n",
       "  {'type': 'node', 'id': 323292641, 'lat': 52.4205726, 'lon': 13.2341148},\n",
       "  {'type': 'node', 'id': 323292796, 'lat': 52.5839473, 'lon': 13.5558013},\n",
       "  {'type': 'node', 'id': 323293370, 'lat': 52.6248484, 'lon': 13.3648073},\n",
       "  {'type': 'node', 'id': 323295336, 'lat': 52.530167, 'lon': 13.6267746},\n",
       "  {'type': 'node', 'id': 323296965, 'lat': 52.3841821, 'lon': 13.3879864},\n",
       "  {'type': 'node', 'id': 323297470, 'lat': 52.5188147, 'lon': 13.6430345},\n",
       "  {'type': 'node', 'id': 323298418, 'lat': 52.6438211, 'lon': 13.43382},\n",
       "  {'type': 'node', 'id': 323299590, 'lat': 52.6075268, 'lon': 13.2026488},\n",
       "  {'type': 'node', 'id': 323301863, 'lat': 52.380945, 'lon': 13.6048584},\n",
       "  {'type': 'node', 'id': 323302428, 'lat': 52.6548597, 'lon': 13.4740364},\n",
       "  {'type': 'node', 'id': 323302506, 'lat': 52.4027742, 'lon': 13.1592412},\n",
       "  {'type': 'node', 'id': 323303133, 'lat': 52.6278579, 'lon': 13.2259231},\n",
       "  {'type': 'node', 'id': 323309699, 'lat': 52.5388779, 'lon': 13.6355794},\n",
       "  {'type': 'node', 'id': 323313490, 'lat': 52.6403544, 'lon': 13.2622408},\n",
       "  {'type': 'node', 'id': 323314210, 'lat': 52.6560107, 'lon': 13.4740437},\n",
       "  {'type': 'node', 'id': 323314641, 'lat': 52.5191864, 'lon': 13.1443571},\n",
       "  {'type': 'node', 'id': 323315029, 'lat': 52.437528, 'lon': 13.7439434},\n",
       "  {'type': 'node', 'id': 323315427, 'lat': 52.436599, 'lon': 13.7602928},\n",
       "  {'type': 'node', 'id': 323315811, 'lat': 52.6234022, 'lon': 13.3541126},\n",
       "  {'type': 'node', 'id': 323315921, 'lat': 52.6500004, 'lon': 13.4487809},\n",
       "  {'type': 'node', 'id': 323317200, 'lat': 52.6675086, 'lon': 13.4577079},\n",
       "  {'type': 'node', 'id': 323317332, 'lat': 52.6374448, 'lon': 13.4302509},\n",
       "  {'type': 'node', 'id': 323318768, 'lat': 52.6516587, 'lon': 13.4683138},\n",
       "  {'type': 'node', 'id': 323319461, 'lat': 52.404668, 'lon': 13.3065126},\n",
       "  {'type': 'node', 'id': 323320368, 'lat': 52.6510981, 'lon': 13.2850342},\n",
       "  {'type': 'node', 'id': 323321034, 'lat': 52.6360219, 'lon': 13.3820625},\n",
       "  {'type': 'node', 'id': 323321643, 'lat': 52.6429191, 'lon': 13.4336558},\n",
       "  {'type': 'node', 'id': 323323400, 'lat': 52.6263844, 'lon': 13.3238369},\n",
       "  {'type': 'node', 'id': 323323874, 'lat': 52.619094, 'lon': 13.5036538},\n",
       "  {'type': 'node', 'id': 323324009, 'lat': 52.4651612, 'lon': 13.7066735},\n",
       "  {'type': 'node', 'id': 323324192, 'lat': 52.6516163, 'lon': 13.4669335},\n",
       "  {'type': 'node', 'id': 323326041, 'lat': 52.6592789, 'lon': 13.3073609},\n",
       "  {'type': 'node', 'id': 323327041, 'lat': 52.4058347, 'lon': 13.3460582},\n",
       "  {'type': 'node', 'id': 323328011, 'lat': 52.4078997, 'lon': 13.2491488},\n",
       "  {'type': 'node', 'id': 323328319, 'lat': 52.4155239, 'lon': 13.2012171},\n",
       "  {'type': 'node', 'id': 323328339, 'lat': 52.5734577, 'lon': 13.575766},\n",
       "  {'type': 'node', 'id': 323329226, 'lat': 52.6384706, 'lon': 13.38952},\n",
       "  {'type': 'node', 'id': 323329233, 'lat': 52.4367819, 'lon': 13.7237176},\n",
       "  {'type': 'node', 'id': 323330987, 'lat': 52.6374035, 'lon': 13.4318181},\n",
       "  {'type': 'node', 'id': 323331842, 'lat': 52.6366128, 'lon': 13.3833688},\n",
       "  {'type': 'node', 'id': 323332937, 'lat': 52.4767705, 'lon': 13.6377254},\n",
       "  {'type': 'node', 'id': 323333015, 'lat': 52.5907042, 'lon': 13.5347153},\n",
       "  {'type': 'node', 'id': 323333636, 'lat': 52.4103008, 'lon': 13.7358458},\n",
       "  {'type': 'node', 'id': 323333648, 'lat': 52.3762468, 'lon': 13.6332183},\n",
       "  {'type': 'node', 'id': 323334282, 'lat': 52.6363795, 'lon': 13.3843447},\n",
       "  {'type': 'node', 'id': 323335116, 'lat': 52.3619326, 'lon': 13.6402399},\n",
       "  {'type': 'node', 'id': 323335757, 'lat': 52.4003193, 'lon': 13.3109163},\n",
       "  {'type': 'node', 'id': 323336891, 'lat': 52.4062389, 'lon': 13.4758177},\n",
       "  {'type': 'node', 'id': 323337011, 'lat': 52.4166191, 'lon': 13.2477129},\n",
       "  {'type': 'node', 'id': 323338596, 'lat': 52.624496, 'lon': 13.3621313},\n",
       "  {'type': 'node', 'id': 323342686, 'lat': 52.5437004, 'lon': 13.6248023},\n",
       "  {'type': 'node', 'id': 323343614, 'lat': 52.3859848, 'lon': 13.5961197},\n",
       "  {'type': 'node', 'id': 323343705, 'lat': 52.3889916, 'lon': 13.5354929},\n",
       "  {'type': 'node', 'id': 323344374, 'lat': 52.6461219, 'lon': 13.5151919},\n",
       "  {'type': 'node', 'id': 323344818, 'lat': 52.3689546, 'lon': 13.6468666},\n",
       "  {'type': 'node', 'id': 323345047, 'lat': 52.4157765, 'lon': 13.4438792},\n",
       "  {'type': 'node', 'id': 323345527, 'lat': 52.6248237, 'lon': 13.3641833},\n",
       "  {'type': 'node', 'id': 323345563, 'lat': 52.6282664, 'lon': 13.225877},\n",
       "  {'type': 'node', 'id': 323345671, 'lat': 52.439615, 'lon': 13.1231211},\n",
       "  {'type': 'node', 'id': 323346071, 'lat': 52.6253464, 'lon': 13.3669281},\n",
       "  {'type': 'node', 'id': 323346181, 'lat': 52.6542077, 'lon': 13.4922911},\n",
       "  {'type': 'node', 'id': 323346593, 'lat': 52.4366805, 'lon': 13.7544459},\n",
       "  {'type': 'node', 'id': 323347054, 'lat': 52.3913341, 'lon': 13.5822614},\n",
       "  {'type': 'node', 'id': 323347066, 'lat': 52.6275245, 'lon': 13.2616873},\n",
       "  {'type': 'node', 'id': 323347160, 'lat': 52.51899, 'lon': 13.1445493},\n",
       "  {'type': 'node', 'id': 323347274, 'lat': 52.5873394, 'lon': 13.5478165},\n",
       "  {'type': 'node', 'id': 323347743, 'lat': 52.4166778, 'lon': 13.729927},\n",
       "  {'type': 'node', 'id': 323347896, 'lat': 52.5669526, 'lon': 13.5834253},\n",
       "  {'type': 'node', 'id': 323348609, 'lat': 52.6428421, 'lon': 13.4087489},\n",
       "  {'type': 'node', 'id': 323348774, 'lat': 52.5377019, 'lon': 13.6337201},\n",
       "  {'type': 'node', 'id': 323348897, 'lat': 52.6273075, 'lon': 13.2517324},\n",
       "  {'type': 'node', 'id': 323349399, 'lat': 52.5197645, 'lon': 13.1426737},\n",
       "  {'type': 'node', 'id': 323350027, 'lat': 52.4548534, 'lon': 13.703142},\n",
       "  {'type': 'node', 'id': 323350133, 'lat': 52.6397957, 'lon': 13.2689162},\n",
       "  {'type': 'node', 'id': 323350174, 'lat': 52.549952, 'lon': 13.5863872},\n",
       "  {'type': 'node', 'id': 323351313, 'lat': 52.5118729, 'lon': 13.6332891},\n",
       "  {'type': 'node', 'id': 323351339, 'lat': 52.5225986, 'lon': 13.6517741},\n",
       "  {'type': 'node', 'id': 323351638, 'lat': 52.6231646, 'lon': 13.3564633},\n",
       "  {'type': 'node', 'id': 323351790, 'lat': 52.3886074, 'lon': 13.5668923},\n",
       "  {'type': 'node', 'id': 323352116, 'lat': 52.4119785, 'lon': 13.7337495},\n",
       "  {'type': 'node', 'id': 323353278, 'lat': 52.636909, 'lon': 13.4266118},\n",
       "  {'type': 'node', 'id': 323354675, 'lat': 52.648825, 'lon': 13.4618234},\n",
       "  {'type': 'node', 'id': 323354761, 'lat': 52.570892, 'lon': 13.5815988},\n",
       "  {'type': 'node', 'id': 323355684, 'lat': 52.6594285, 'lon': 13.4853597},\n",
       "  {'type': 'node', 'id': 323357744, 'lat': 52.5736862, 'lon': 13.5752694},\n",
       "  {'type': 'node', 'id': 323358698, 'lat': 52.6424829, 'lon': 13.4139139},\n",
       "  {'type': 'node', 'id': 323358791, 'lat': 52.6234181, 'lon': 13.3435699},\n",
       "  {'type': 'node', 'id': 323358895, 'lat': 52.5441738, 'lon': 13.6191935},\n",
       "  {'type': 'node', 'id': 323358928, 'lat': 52.4010711, 'lon': 13.3542448},\n",
       "  {'type': 'node', 'id': 323359241, 'lat': 52.623415, 'lon': 13.3430176},\n",
       "  {'type': 'node', 'id': 323359244, 'lat': 52.6593463, 'lon': 13.2944842},\n",
       "  {'type': 'node', 'id': 323359367, 'lat': 52.4330008, 'lon': 13.737834},\n",
       "  {'type': 'node', 'id': 323360774, 'lat': 52.4208048, 'lon': 13.2379335},\n",
       "  {'type': 'node', 'id': 323360776, 'lat': 52.3389451, 'lon': 13.6509462},\n",
       "  {'type': 'node', 'id': 323361545, 'lat': 52.3963564, 'lon': 13.1577955},\n",
       "  {'type': 'node', 'id': 323361769, 'lat': 52.6490248, 'lon': 13.4416108},\n",
       "  {'type': 'node', 'id': 323362156, 'lat': 52.6252536, 'lon': 13.3650456},\n",
       "  {'type': 'node', 'id': 323362401, 'lat': 52.6414952, 'lon': 13.4144962},\n",
       "  {'type': 'node', 'id': 323362779, 'lat': 52.5151266, 'lon': 13.6370907},\n",
       "  {'type': 'node', 'id': 323363061, 'lat': 52.5375068, 'lon': 13.627792},\n",
       "  {'type': 'node', 'id': 323363230, 'lat': 52.4787311, 'lon': 13.648307},\n",
       "  {'type': 'node', 'id': 323364143, 'lat': 52.6454021, 'lon': 13.512828},\n",
       "  {'type': 'node', 'id': 323365683, 'lat': 52.4098553, 'lon': 13.7368198},\n",
       "  {'type': 'node', 'id': 323366801, 'lat': 52.4341553, 'lon': 13.7301435},\n",
       "  {'type': 'node', 'id': 323366844, 'lat': 52.4692368, 'lon': 13.6786446},\n",
       "  {'type': 'node', 'id': 323369177, 'lat': 52.4915835, 'lon': 13.6279624},\n",
       "  {'type': 'node', 'id': 323370624, 'lat': 52.4344317, 'lon': 13.7292007},\n",
       "  {'type': 'node', 'id': 323371694, 'lat': 52.4228117, 'lon': 13.7335842},\n",
       "  {'type': 'node', 'id': 323372165, 'lat': 52.6574816, 'lon': 13.3099922},\n",
       "  {'type': 'node', 'id': 323372483, 'lat': 52.5733672, 'lon': 13.5690806},\n",
       "  {'type': 'node', 'id': 323372620, 'lat': 52.5890862, 'lon': 13.5419179},\n",
       "  {'type': 'node', 'id': 323372918, 'lat': 52.4548648, 'lon': 13.7017278},\n",
       "  {'type': 'node', 'id': 323374403, 'lat': 52.3591636, 'lon': 13.6384658},\n",
       "  {'type': 'node', 'id': 323374551, 'lat': 52.6516383, 'lon': 13.468488},\n",
       "  {'type': 'node', 'id': 323376109, 'lat': 52.6279793, 'lon': 13.2259157},\n",
       "  {'type': 'node', 'id': 323376827, 'lat': 52.5376518, 'lon': 13.6339467},\n",
       "  {'type': 'node', 'id': 323381916, 'lat': 52.4741023, 'lon': 13.6294385},\n",
       "  {'type': 'node', 'id': 323382036, 'lat': 52.4608286, 'lon': 13.7174051},\n",
       "  {'type': 'node', 'id': 323382038, 'lat': 52.6503775, 'lon': 13.4638646},\n",
       "  {'type': 'node', 'id': 323383264, 'lat': 52.3943931, 'lon': 13.1682033},\n",
       "  {'type': 'node', 'id': 323383827, 'lat': 52.6284157, 'lon': 13.2242433},\n",
       "  {'type': 'node', 'id': 323384187, 'lat': 52.5927494, 'lon': 13.5228816},\n",
       "  {'type': 'node', 'id': 323384364, 'lat': 52.4088301, 'lon': 13.248969},\n",
       "  {'type': 'node', 'id': 323384540, 'lat': 52.6364006, 'lon': 13.3821576},\n",
       "  {'type': 'node', 'id': 323384821, 'lat': 52.4157784, 'lon': 13.2970888},\n",
       "  {'type': 'node', 'id': 323385254, 'lat': 52.6459651, 'lon': 13.3931451},\n",
       "  {'type': 'node', 'id': 323385590, 'lat': 52.3764101, 'lon': 13.4126403},\n",
       "  {'type': 'node', 'id': 323385649, 'lat': 52.6493866, 'lon': 13.4415437},\n",
       "  {'type': 'node', 'id': 323387237, 'lat': 52.4629168, 'lon': 13.7159638},\n",
       "  {'type': 'node', 'id': 323387276, 'lat': 52.3959454, 'lon': 13.4797604},\n",
       "  {'type': 'node', 'id': 323388156, 'lat': 52.648451, 'lon': 13.2842376},\n",
       "  {'type': 'node', 'id': 323389893, 'lat': 52.6243179, 'lon': 13.3616487},\n",
       "  {'type': 'node', 'id': 323392731, 'lat': 52.397754, 'lon': 13.3611982},\n",
       "  {'type': 'node', 'id': 323395885, 'lat': 52.6248191, 'lon': 13.3626712},\n",
       "  {'type': 'node', 'id': 323396149, 'lat': 52.414743, 'lon': 13.2967214},\n",
       "  {'type': 'node', 'id': 323399377, 'lat': 52.3766366, 'lon': 13.4105159},\n",
       "  {'type': 'node', 'id': 323400131, 'lat': 52.647441, 'lon': 13.3960762},\n",
       "  {'type': 'node', 'id': 323400379, 'lat': 52.6282414, 'lon': 13.2256388},\n",
       "  {'type': 'node', 'id': 323400715, 'lat': 52.3769894, 'lon': 13.4040834},\n",
       "  {'type': 'node', 'id': 323400772, 'lat': 52.6592342, 'lon': 13.301444},\n",
       "  {'type': 'node', 'id': 323401825, 'lat': 52.420667, 'lon': 13.2236598},\n",
       "  {'type': 'node', 'id': 323401856, 'lat': 52.3978883, 'lon': 13.5311891},\n",
       "  {'type': 'node', 'id': 323401921, 'lat': 52.5249782, 'lon': 13.6569075},\n",
       "  {'type': 'node', 'id': 323401987, 'lat': 52.6502069, 'lon': 13.5025812},\n",
       "  {'type': 'node', 'id': 323402410, 'lat': 52.3993836, 'lon': 13.5245955},\n",
       "  {'type': 'node', 'id': 323402784, 'lat': 52.3850142, 'lon': 13.5997326},\n",
       "  {'type': 'node', 'id': 323404211, 'lat': 52.4203794, 'lon': 13.2319527},\n",
       "  {'type': 'node', 'id': 323404741, 'lat': 52.5650964, 'lon': 13.5832196},\n",
       "  {'type': 'node', 'id': 323405002, 'lat': 52.6499526, 'lon': 13.4470957},\n",
       "  {'type': 'node', 'id': 323406267, 'lat': 52.3899594, 'lon': 13.593676},\n",
       "  {'type': 'node', 'id': 323406553, 'lat': 52.6189926, 'lon': 13.5034382},\n",
       "  {'type': 'node', 'id': 323406646, 'lat': 52.6230874, 'lon': 13.3524856},\n",
       "  {'type': 'node', 'id': 323407718, 'lat': 52.4678002, 'lon': 13.7016624},\n",
       "  {'type': 'node', 'id': 323408096, 'lat': 52.4073174, 'lon': 13.3316441},\n",
       "  {'type': 'node', 'id': 323408198, 'lat': 52.6510152, 'lon': 13.5004524},\n",
       "  {'type': 'node', 'id': 323410455, 'lat': 52.6248673, 'lon': 13.3630936},\n",
       "  {'type': 'node', 'id': 323411435, 'lat': 52.6276424, 'lon': 13.2272416},\n",
       "  {'type': 'node', 'id': 323411589, 'lat': 52.546729, 'lon': 13.6036417},\n",
       "  {'type': 'node', 'id': 323411625, 'lat': 52.5376384, 'lon': 13.6283974},\n",
       "  {'type': 'node', 'id': 323412051, 'lat': 52.5377931, 'lon': 13.6327907},\n",
       "  {'type': 'node', 'id': 323414026, 'lat': 52.6054758, 'lon': 13.2017032},\n",
       "  {'type': 'node', 'id': 323414032, 'lat': 52.6254043, 'lon': 13.3655864},\n",
       "  {'type': 'node', 'id': 323414044, 'lat': 52.3383381, 'lon': 13.6488471},\n",
       "  {'type': 'node', 'id': 323414096, 'lat': 52.4734426, 'lon': 13.6689523},\n",
       "  {'type': 'node', 'id': 323414163, 'lat': 52.4004436, 'lon': 13.5093491},\n",
       "  {'type': 'node', 'id': 323414217, 'lat': 52.6272969, 'lon': 13.2479961},\n",
       "  {'type': 'node', 'id': 323414294, 'lat': 52.401549, 'lon': 13.5171413},\n",
       "  {'type': 'node', 'id': 323414862, 'lat': 52.4681962, 'lon': 13.6797666},\n",
       "  {'type': 'node', 'id': 323414923, 'lat': 52.5683202, 'lon': 13.5830417},\n",
       "  {'type': 'node', 'id': 323414944, 'lat': 52.5433599, 'lon': 13.6286043},\n",
       "  {'type': 'node', 'id': 323415417, 'lat': 52.6593196, 'lon': 13.2951475},\n",
       "  {'type': 'node', 'id': 323415854, 'lat': 52.5479594, 'lon': 13.5963103},\n",
       "  {'type': 'node', 'id': 323416105, 'lat': 52.5460028, 'lon': 13.6080018},\n",
       "  {'type': 'node', 'id': 323416213, 'lat': 52.6364188, 'lon': 13.3823438},\n",
       "  {'type': 'node', 'id': 323416495, 'lat': 52.3767513, 'lon': 13.6065083},\n",
       "  {'type': 'node', 'id': 323416742, 'lat': 52.4965696, 'lon': 13.6254448},\n",
       "  {'type': 'node', 'id': 323417131, 'lat': 52.5727471, 'lon': 13.5770427},\n",
       "  {'type': 'node', 'id': 323417403, 'lat': 52.619262, 'lon': 13.2148184},\n",
       "  {'type': 'node', 'id': 323418695, 'lat': 52.662492, 'lon': 13.486187},\n",
       "  {'type': 'node', 'id': 323420374, 'lat': 52.6233135, 'lon': 13.3580067},\n",
       "  {'type': 'node', 'id': 323422560, 'lat': 52.4266934, 'lon': 13.737662},\n",
       "  {'type': 'node',\n",
       "   'id': 323422621,\n",
       "   'lat': 52.6316476,\n",
       "   'lon': 13.5184356,\n",
       "   'tags': {'alt_name': 'Schwanebeck',\n",
       "    'name': 'Berlin',\n",
       "    'traffic_sign': 'city_limit'}},\n",
       "  {'type': 'node', 'id': 323423152, 'lat': 52.4645221, 'lon': 13.7019742},\n",
       "  {'type': 'node', 'id': 323423617, 'lat': 52.6430805, 'lon': 13.4100657},\n",
       "  {'type': 'node', 'id': 323423650, 'lat': 52.4634966, 'lon': 13.6959228},\n",
       "  {'type': 'node', 'id': 323423746, 'lat': 52.5576928, 'lon': 13.5864796},\n",
       "  {'type': 'node', 'id': 323423939, 'lat': 52.6410233, 'lon': 13.28246},\n",
       "  {'type': 'node', 'id': 323424147, 'lat': 52.385406, 'lon': 13.5989789},\n",
       "  {'type': 'node', 'id': 323424332, 'lat': 52.6466108, 'lon': 13.3938778},\n",
       "  {'type': 'node', 'id': 323424833, 'lat': 52.6534798, 'lon': 13.4724084},\n",
       "  {'type': 'node', 'id': 323424867, 'lat': 52.3708105, 'lon': 13.6420982},\n",
       "  {'type': 'node', 'id': 323424938, 'lat': 52.4676273, 'lon': 13.6804631},\n",
       "  {'type': 'node', 'id': 323425383, 'lat': 52.6560832, 'lon': 13.2822642},\n",
       "  {'type': 'node', 'id': 323426666, 'lat': 52.3857818, 'lon': 13.42746},\n",
       "  {'type': 'node', 'id': 323426995, 'lat': 52.4072023, 'lon': 13.1723587},\n",
       "  {'type': 'node', 'id': 323428267, 'lat': 52.5748746, 'lon': 13.5674124},\n",
       "  {'type': 'node', 'id': 323428429, 'lat': 52.3754089, 'lon': 13.6067653},\n",
       "  {'type': 'node', 'id': 323428505, 'lat': 52.409749, 'lon': 13.7370131},\n",
       "  {'type': 'node', 'id': 323428876, 'lat': 52.622939, 'lon': 13.3522687},\n",
       "  {'type': 'node', 'id': 323428927, 'lat': 52.6241836, 'lon': 13.3609153},\n",
       "  {'type': 'node', 'id': 323429298, 'lat': 52.6467046, 'lon': 13.510284},\n",
       "  {'type': 'node', 'id': 323431188, 'lat': 52.6255775, 'lon': 13.3679677},\n",
       "  {'type': 'node', 'id': 323431647, 'lat': 52.4631777, 'lon': 13.7122263},\n",
       "  {'type': 'node', 'id': 323432088, 'lat': 52.4005698, 'lon': 13.5217977},\n",
       "  {'type': 'node', 'id': 323434065, 'lat': 52.542305, 'lon': 13.6354523},\n",
       "  {'type': 'node', 'id': 323434077, 'lat': 52.5304314, 'lon': 13.6403601},\n",
       "  {'type': 'node', 'id': 323435309, 'lat': 52.625391, 'lon': 13.3658768},\n",
       "  {'type': 'node', 'id': 323436032, 'lat': 52.6466254, 'lon': 13.5104393},\n",
       "  {'type': 'node', 'id': 323436764, 'lat': 52.5917205, 'lon': 13.5300644},\n",
       "  {'type': 'node', 'id': 323437285, 'lat': 52.6270696, 'lon': 13.3701748},\n",
       "  {'type': 'node', 'id': 323437895, 'lat': 52.543792, 'lon': 13.1249632},\n",
       "  {'type': 'node', 'id': 323438021, 'lat': 52.6527529, 'lon': 13.2819048},\n",
       "  {'type': 'node', 'id': 323438574, 'lat': 52.6231137, 'lon': 13.3567352},\n",
       "  {'type': 'node', 'id': 323439775, 'lat': 52.521435, 'lon': 13.1183818},\n",
       "  {'type': 'node', 'id': 323439872, 'lat': 52.4672864, 'lon': 13.6809602},\n",
       "  {'type': 'node', 'id': 323440253, 'lat': 52.6547958, 'lon': 13.4907625},\n",
       "  {'type': 'node', 'id': 323440479, 'lat': 52.3791171, 'lon': 13.3881235},\n",
       "  {'type': 'node', 'id': 323440510, 'lat': 52.6274358, 'lon': 13.3725164},\n",
       "  {'type': 'node', 'id': 323442042, 'lat': 52.6205367, 'lon': 13.5054978},\n",
       "  {'type': 'node', 'id': 323442070, 'lat': 52.4702316, 'lon': 13.6134952},\n",
       "  {'type': 'node', 'id': 323442193, 'lat': 52.6419988, 'lon': 13.3902377},\n",
       "  {'type': 'node', 'id': 323443174, 'lat': 52.3977576, 'lon': 13.4905626},\n",
       "  {'type': 'node', 'id': 323443425, 'lat': 52.4015636, 'lon': 13.3096001},\n",
       "  {'type': 'node', 'id': 323443439, 'lat': 52.3989362, 'lon': 13.5263818},\n",
       "  {'type': 'node', 'id': 323444331, 'lat': 52.6201644, 'lon': 13.2167608},\n",
       "  {'type': 'node', 'id': 323444341, 'lat': 52.3714322, 'lon': 13.6425342},\n",
       "  {'type': 'node', 'id': 323444488, 'lat': 52.4647419, 'lon': 13.6909739},\n",
       "  {'type': 'node', 'id': 323445627, 'lat': 52.6539164, 'lon': 13.4736117},\n",
       "  {'type': 'node', 'id': 323445890, 'lat': 52.6682226, 'lon': 13.4745328},\n",
       "  {'type': 'node', 'id': 323446348, 'lat': 52.6050272, 'lon': 13.4966616},\n",
       "  {'type': 'node', 'id': 323447981, 'lat': 52.6403931, 'lon': 13.3901876},\n",
       "  {'type': 'node', 'id': 323448847, 'lat': 52.6336379, 'lon': 13.265088},\n",
       "  {'type': 'node', 'id': 323449173, 'lat': 52.4117634, 'lon': 13.7339438},\n",
       "  {'type': 'node', 'id': 323449307, 'lat': 52.5341234, 'lon': 13.6256748},\n",
       "  {'type': 'node', 'id': 323450442, 'lat': 52.6397143, 'lon': 13.2695974},\n",
       "  {'type': 'node', 'id': 323450554, 'lat': 52.5850948, 'lon': 13.5533628},\n",
       "  {'type': 'node', 'id': 323450807, 'lat': 52.4650132, 'lon': 13.6898329},\n",
       "  {'type': 'node', 'id': 323451121, 'lat': 52.4145035, 'lon': 13.2959288},\n",
       "  {'type': 'node', 'id': 323451677, 'lat': 52.5379439, 'lon': 13.6343849},\n",
       "  {'type': 'node', 'id': 323451938, 'lat': 52.6386606, 'lon': 13.521719},\n",
       "  {'type': 'node', 'id': 323452057, 'lat': 52.6238633, 'lon': 13.3510725},\n",
       "  {'type': 'node', 'id': 323452935, 'lat': 52.6076292, 'lon': 13.20308},\n",
       "  {'type': 'node', 'id': 323454068, 'lat': 52.6240604, 'lon': 13.3605586},\n",
       "  {'type': 'node', 'id': 323454187, 'lat': 52.6272856, 'lon': 13.2460674},\n",
       "  {'type': 'node', 'id': 323455177, 'lat': 52.5719589, 'lon': 13.5774267},\n",
       "  {'type': 'node', 'id': 323455785, 'lat': 52.4013694, 'lon': 13.4782409},\n",
       "  {'type': 'node', 'id': 323456598, 'lat': 52.6452546, 'lon': 13.4031181},\n",
       "  {'type': 'node', 'id': 323457048, 'lat': 52.4596884, 'lon': 13.7052941},\n",
       "  {'type': 'node', 'id': 323457094, 'lat': 52.5649549, 'lon': 13.5832759},\n",
       "  {'type': 'node', 'id': 323457682, 'lat': 52.6282295, 'lon': 13.2224091},\n",
       "  {'type': 'node', 'id': 323458127, 'lat': 52.4611646, 'lon': 13.7029687},\n",
       "  {'type': 'node', 'id': 323458238, 'lat': 52.4630413, 'lon': 13.7138068},\n",
       "  {'type': 'node', 'id': 323458353, 'lat': 52.6236231, 'lon': 13.3549412},\n",
       "  {'type': 'node', 'id': 323458846, 'lat': 52.5063637, 'lon': 13.629322},\n",
       "  {'type': 'node', 'id': 323458934, 'lat': 52.6599533, 'lon': 13.2876668},\n",
       "  {'type': 'node', 'id': 323459863, 'lat': 52.6392659, 'lon': 13.389711},\n",
       "  {'type': 'node', 'id': 323460169, 'lat': 52.3881578, 'lon': 13.3769154},\n",
       "  {'type': 'node', 'id': 323460609, 'lat': 52.5409213, 'lon': 13.6376506},\n",
       "  {'type': 'node', 'id': 323463681, 'lat': 52.4772452, 'lon': 13.6531454},\n",
       "  {'type': 'node', 'id': 323463699, 'lat': 52.6502265, 'lon': 13.4636092},\n",
       "  {'type': 'node', 'id': 323463907, 'lat': 52.4892415, 'lon': 13.6251345},\n",
       "  {'type': 'node', 'id': 323464097, 'lat': 52.4070795, 'lon': 13.4184228},\n",
       "  {'type': 'node', 'id': 323464286, 'lat': 52.5092271, 'lon': 13.1688227},\n",
       "  {'type': 'node', 'id': 323465011, 'lat': 52.4053615, 'lon': 13.2496829},\n",
       "  {'type': 'node', 'id': 323465152, 'lat': 52.5322207, 'lon': 13.1203428},\n",
       "  {'type': 'node', 'id': 323465182, 'lat': 52.51706, 'lon': 13.1173799},\n",
       "  {'type': 'node', 'id': 323465260, 'lat': 52.6480828, 'lon': 13.4597316},\n",
       "  {'type': 'node', 'id': 323465381, 'lat': 52.4736998, 'lon': 13.62534},\n",
       "  {'type': 'node', 'id': 323465488, 'lat': 52.4737597, 'lon': 13.6626468},\n",
       "  {'type': 'node', 'id': 323466013, 'lat': 52.6258793, 'lon': 13.5061598},\n",
       "  {'type': 'node', 'id': 323466461, 'lat': 52.41176, 'lon': 13.2490331},\n",
       "  {'type': 'node', 'id': 323466844, 'lat': 52.4706298, 'lon': 13.6114984},\n",
       "  {'type': 'node', 'id': 323467061, 'lat': 52.3800985, 'lon': 13.3881086},\n",
       "  {'type': 'node', 'id': 323468058, 'lat': 52.6474401, 'lon': 13.3952019},\n",
       "  {'type': 'node', 'id': 323468630, 'lat': 52.6176137, 'lon': 13.2135992},\n",
       "  {'type': 'node', 'id': 323470521, 'lat': 52.4105329, 'lon': 13.4217819},\n",
       "  {'type': 'node', 'id': 323470667, 'lat': 52.6426845, 'lon': 13.4078856},\n",
       "  {'type': 'node', 'id': 323471253, 'lat': 52.6279181, 'lon': 13.3741869},\n",
       "  {'type': 'node', 'id': 323471887, 'lat': 52.3828413, 'lon': 13.603003},\n",
       "  {'type': 'node', 'id': 323472727, 'lat': 52.6339887, 'lon': 13.3782458},\n",
       "  {'type': 'node', 'id': 323475914, 'lat': 52.6237407, 'lon': 13.343974},\n",
       "  {'type': 'node', 'id': 323476049, 'lat': 52.4735458, 'lon': 13.6281799},\n",
       "  {'type': 'node', 'id': 323477491, 'lat': 52.5490105, 'lon': 13.5900437},\n",
       "  {'type': 'node', 'id': 323477813, 'lat': 52.626112, 'lon': 13.3695698},\n",
       "  {'type': 'node', 'id': 323478073, 'lat': 52.6686896, 'lon': 13.4591935},\n",
       "  {'type': 'node', 'id': 323478347, 'lat': 52.6488828, 'lon': 13.4407197},\n",
       "  {'type': 'node', 'id': 323478730, 'lat': 52.5183998, 'lon': 13.1335986},\n",
       "  {'type': 'node', 'id': 323478821, 'lat': 52.6671206, 'lon': 13.4659262},\n",
       "  {'type': 'node', 'id': 323479083, 'lat': 52.4667126, 'lon': 13.6233739},\n",
       "  {'type': 'node', 'id': 323479504, 'lat': 52.6456442, 'lon': 13.3930013},\n",
       "  {'type': 'node', 'id': 323481315, 'lat': 52.6252627, 'lon': 13.3647334},\n",
       "  {'type': 'node', 'id': 323481397, 'lat': 52.6493508, 'lon': 13.4431981},\n",
       "  {'type': 'node', 'id': 323482636, 'lat': 52.6499204, 'lon': 13.4630501},\n",
       "  {'type': 'node', 'id': 323483140, 'lat': 52.6345361, 'lon': 13.2652006},\n",
       "  {'type': 'node', 'id': 323483276, 'lat': 52.4666071, 'lon': 13.6230582},\n",
       "  {'type': 'node', 'id': 323484330, 'lat': 52.5301859, 'lon': 13.6269968},\n",
       "  {'type': 'node', 'id': 323485251, 'lat': 52.6493288, 'lon': 13.4416517},\n",
       "  {'type': 'node', 'id': 323485944, 'lat': 52.6363915, 'lon': 13.3843071},\n",
       "  {'type': 'node', 'id': 323486616, 'lat': 52.3951142, 'lon': 13.3684119},\n",
       "  {'type': 'node', 'id': 323486950, 'lat': 52.5403917, 'lon': 13.6371157},\n",
       "  {'type': 'node', 'id': 323487519, 'lat': 52.4130806, 'lon': 13.7327358},\n",
       "  {'type': 'node', 'id': 323487808, 'lat': 52.647953, 'lon': 13.2845642},\n",
       "  {'type': 'node', 'id': 323488509, 'lat': 52.4587863, 'lon': 13.7054785},\n",
       "  {'type': 'node', 'id': 323490120, 'lat': 52.4650263, 'lon': 13.6884011},\n",
       "  {'type': 'node', 'id': 323490922, 'lat': 52.6282008, 'lon': 13.3123377},\n",
       "  {'type': 'node', 'id': 323492489, 'lat': 52.3882356, 'lon': 13.5586653},\n",
       "  {'type': 'node', 'id': 323492724, 'lat': 52.6068831, 'lon': 13.2017365},\n",
       "  {'type': 'node', 'id': 323493827, 'lat': 52.3821311, 'lon': 13.3882213},\n",
       "  {'type': 'node', 'id': 323494410, 'lat': 52.3982173, 'lon': 13.4929203},\n",
       "  {'type': 'node', 'id': 323495440, 'lat': 52.4630307, 'lon': 13.7147295},\n",
       "  {'type': 'node', 'id': 323495456, 'lat': 52.6260057, 'lon': 13.3676564},\n",
       "  {'type': 'node', 'id': 323496115, 'lat': 52.6273221, 'lon': 13.2623811},\n",
       "  {'type': 'node', 'id': 323496800, 'lat': 52.5378672, 'lon': 13.6331217},\n",
       "  {'type': 'node', 'id': 323496822, 'lat': 52.6516752, 'lon': 13.4690162},\n",
       "  {'type': 'node', 'id': 323496921, 'lat': 52.59619, 'lon': 13.5053618},\n",
       "  {'type': 'node', 'id': 323496995, 'lat': 52.4776325, 'lon': 13.6140754},\n",
       "  ...]}"
      ]
     },
     "execution_count": 9,
     "metadata": {},
     "output_type": "execute_result"
    }
   ],
   "source": [
    "overpass_url = \"http://overpass-api.de/api/interpreter\"\n",
    "response = requests.get(overpass_url, params={'data': overpass_query})\n",
    "response.json()"
   ]
  },
  {
   "cell_type": "code",
   "execution_count": 10,
   "id": "fe73287c",
   "metadata": {
    "ExecuteTime": {
     "end_time": "2021-09-17T08:45:01.722780Z",
     "start_time": "2021-09-17T08:45:01.687703Z"
    }
   },
   "outputs": [
    {
     "data": {
      "text/plain": [
       "{'node', 'relation', 'way'}"
      ]
     },
     "execution_count": 10,
     "metadata": {},
     "output_type": "execute_result"
    }
   ],
   "source": [
    "set([i['type'] for i in response.json()['elements']])"
   ]
  },
  {
   "cell_type": "code",
   "execution_count": 11,
   "id": "86629465",
   "metadata": {
    "ExecuteTime": {
     "end_time": "2021-09-20T13:23:38.467867Z",
     "start_time": "2021-09-20T13:23:38.416488Z"
    }
   },
   "outputs": [],
   "source": [
    "dict_response = response.json()"
   ]
  },
  {
   "cell_type": "code",
   "execution_count": 12,
   "id": "a518fb94",
   "metadata": {
    "ExecuteTime": {
     "end_time": "2021-09-20T13:35:07.811140Z",
     "start_time": "2021-09-20T13:35:07.806463Z"
    }
   },
   "outputs": [
    {
     "data": {
      "text/plain": [
       "{'type': 'node', 'id': 324083544, 'lat': 52.6601721, 'lon': 13.2861534}"
      ]
     },
     "execution_count": 12,
     "metadata": {},
     "output_type": "execute_result"
    }
   ],
   "source": [
    "dict_response['elements'][1984] #lets see somerandom element"
   ]
  },
  {
   "cell_type": "code",
   "execution_count": 13,
   "id": "4a7c0696",
   "metadata": {
    "ExecuteTime": {
     "end_time": "2021-09-20T13:36:53.017172Z",
     "start_time": "2021-09-20T13:36:52.821973Z"
    },
    "scrolled": true
   },
   "outputs": [],
   "source": [
    "lss = []\n",
    "for way in dict_response['elements']:\n",
    "    \n",
    "    if way['type']=='way':\n",
    "        line = LineString([(node['lon'],node['lat']) for node in way['geometry']]) # \n",
    "        lss.append(line) # Saving coordinates into line  -linestring\n",
    "\n",
    "\n",
    "merged = linemerge([*lss]) # Connecting all lines\n",
    "borders = unary_union(merged)# Converting linestrings to multistring\n",
    "\n",
    "polygons = list(polygonize(borders))"
   ]
  },
  {
   "cell_type": "code",
   "execution_count": 14,
   "id": "8d36072c",
   "metadata": {
    "ExecuteTime": {
     "end_time": "2021-09-20T13:44:39.699788Z",
     "start_time": "2021-09-20T13:44:39.696340Z"
    }
   },
   "outputs": [],
   "source": [
    "gdf_zones_url= pd.Series(polygons, index=range(len(polygons))).to_frame()\n",
    "gdf_zones_url.columns=['geometry']"
   ]
  },
  {
   "cell_type": "code",
   "execution_count": 15,
   "id": "8066c7bc",
   "metadata": {
    "ExecuteTime": {
     "end_time": "2021-09-20T13:45:16.691176Z",
     "start_time": "2021-09-20T13:45:16.666375Z"
    }
   },
   "outputs": [],
   "source": [
    "gdf_zones_url =gpd.GeoDataFrame(gdf_zones_url, crs='epsg:4326', geometry='geometry')"
   ]
  },
  {
   "cell_type": "code",
   "execution_count": 16,
   "id": "97050ff0",
   "metadata": {
    "ExecuteTime": {
     "end_time": "2021-09-20T13:45:23.759185Z",
     "start_time": "2021-09-20T13:45:23.627815Z"
    }
   },
   "outputs": [
    {
     "data": {
      "text/plain": [
       "<AxesSubplot:>"
      ]
     },
     "execution_count": 16,
     "metadata": {},
     "output_type": "execute_result"
    },
    {
     "data": {
      "image/png": "[encoded data removed]",
      "text/plain": [
       "<Figure size 432x288 with 1 Axes>"
      ]
     },
     "metadata": {
      "needs_background": "light"
     },
     "output_type": "display_data"
    }
   ],
   "source": [
    "gdf_zones_url.plot()"
   ]
  },
  {
   "cell_type": "markdown",
   "id": "af66bee6",
   "metadata": {
    "tags": []
   },
   "source": [
    "### Loading geojson from overpass turbo with geopandas"
   ]
  },
  {
   "cell_type": "markdown",
   "id": "e32c2e97-8a35-454b-8d76-06a3fd7b7482",
   "metadata": {
    "ExecuteTime": {
     "end_time": "2021-09-17T08:55:01.959338Z",
     "start_time": "2021-09-17T08:55:01.528818Z"
    },
    "tags": []
   },
   "source": [
    " Links overpass turbo - https://overpass-turbo.eu/\n",
    "\n",
    " Data QUERY:\n",
    " \n",
    "```ruby\n",
    "[out:json];\n",
    " area[\"name:en\"=\"Berlin\"];\n",
    " (\n",
    "     rel[\"boundary\"=\"administrative\"][\"admin_level\"=\"9\"](area);\n",
    " );\n",
    "/*added by auto repair*/\n",
    " (._;>;);\n",
    "/*end of auto repair*/\n",
    "out;\n",
    "```"
   ]
  },
  {
   "cell_type": "code",
   "execution_count": 17,
   "id": "1a4c0bb2",
   "metadata": {},
   "outputs": [],
   "source": [
    "df_city_borders = gpd.read_file('berlin_borders.geojson')"
   ]
  },
  {
   "cell_type": "code",
   "execution_count": 18,
   "id": "ac23caf4",
   "metadata": {
    "ExecuteTime": {
     "end_time": "2021-09-17T08:55:14.763879Z",
     "start_time": "2021-09-17T08:55:14.646004Z"
    },
    "scrolled": true
   },
   "outputs": [
    {
     "data": {
      "text/html": [
       "<div>\n",
       "<style scoped>\n",
       "    .dataframe tbody tr th:only-of-type {\n",
       "        vertical-align: middle;\n",
       "    }\n",
       "\n",
       "    .dataframe tbody tr th {\n",
       "        vertical-align: top;\n",
       "    }\n",
       "\n",
       "    .dataframe thead th {\n",
       "        text-align: right;\n",
       "    }\n",
       "</style>\n",
       "<table border=\"1\" class=\"dataframe\">\n",
       "  <thead>\n",
       "    <tr style=\"text-align: right;\">\n",
       "      <th></th>\n",
       "      <th>id</th>\n",
       "      <th>@id</th>\n",
       "      <th>TMC:cid_58:tabcd_1:Class</th>\n",
       "      <th>TMC:cid_58:tabcd_1:LCLversion</th>\n",
       "      <th>TMC:cid_58:tabcd_1:LocationCode</th>\n",
       "      <th>access</th>\n",
       "      <th>addr:city</th>\n",
       "      <th>addr:country</th>\n",
       "      <th>addr:housename</th>\n",
       "      <th>addr:housenumber</th>\n",
       "      <th>...</th>\n",
       "      <th>toilets</th>\n",
       "      <th>traffic_sign</th>\n",
       "      <th>type</th>\n",
       "      <th>waterway</th>\n",
       "      <th>website</th>\n",
       "      <th>wheelchair</th>\n",
       "      <th>wikidata</th>\n",
       "      <th>wikipedia</th>\n",
       "      <th>@relations</th>\n",
       "      <th>geometry</th>\n",
       "    </tr>\n",
       "  </thead>\n",
       "  <tbody>\n",
       "    <tr>\n",
       "      <th>0</th>\n",
       "      <td>relation/16334</td>\n",
       "      <td>relation/16334</td>\n",
       "      <td>Area</td>\n",
       "      <td>9.00</td>\n",
       "      <td>4942</td>\n",
       "      <td>None</td>\n",
       "      <td>None</td>\n",
       "      <td>None</td>\n",
       "      <td>None</td>\n",
       "      <td>None</td>\n",
       "      <td>...</td>\n",
       "      <td>None</td>\n",
       "      <td>None</td>\n",
       "      <td>boundary</td>\n",
       "      <td>None</td>\n",
       "      <td>http://www.berlin.de/ba-reinickendorf/</td>\n",
       "      <td>None</td>\n",
       "      <td>Q158876</td>\n",
       "      <td>de:Bezirk Reinickendorf</td>\n",
       "      <td>None</td>\n",
       "      <td>POLYGON ((13.21740 52.58748, 13.21644 52.58571...</td>\n",
       "    </tr>\n",
       "    <tr>\n",
       "      <th>1</th>\n",
       "      <td>relation/16343</td>\n",
       "      <td>relation/16343</td>\n",
       "      <td>None</td>\n",
       "      <td>None</td>\n",
       "      <td>None</td>\n",
       "      <td>None</td>\n",
       "      <td>None</td>\n",
       "      <td>None</td>\n",
       "      <td>None</td>\n",
       "      <td>None</td>\n",
       "      <td>...</td>\n",
       "      <td>None</td>\n",
       "      <td>None</td>\n",
       "      <td>boundary</td>\n",
       "      <td>None</td>\n",
       "      <td>http://www.berlin.de/ba-spandau/</td>\n",
       "      <td>None</td>\n",
       "      <td>Q158083</td>\n",
       "      <td>de:Bezirk Spandau</td>\n",
       "      <td>None</td>\n",
       "      <td>POLYGON ((13.15724 52.50162, 13.15722 52.50162...</td>\n",
       "    </tr>\n",
       "    <tr>\n",
       "      <th>2</th>\n",
       "      <td>relation/16347</td>\n",
       "      <td>relation/16347</td>\n",
       "      <td>Area</td>\n",
       "      <td>9.00</td>\n",
       "      <td>4885</td>\n",
       "      <td>None</td>\n",
       "      <td>None</td>\n",
       "      <td>None</td>\n",
       "      <td>None</td>\n",
       "      <td>None</td>\n",
       "      <td>...</td>\n",
       "      <td>None</td>\n",
       "      <td>None</td>\n",
       "      <td>boundary</td>\n",
       "      <td>None</td>\n",
       "      <td>None</td>\n",
       "      <td>None</td>\n",
       "      <td>Q163966</td>\n",
       "      <td>de:Bezirk Mitte</td>\n",
       "      <td>None</td>\n",
       "      <td>POLYGON ((13.39929 52.54894, 13.39929 52.54895...</td>\n",
       "    </tr>\n",
       "    <tr>\n",
       "      <th>3</th>\n",
       "      <td>relation/55734</td>\n",
       "      <td>relation/55734</td>\n",
       "      <td>Area</td>\n",
       "      <td>9.00</td>\n",
       "      <td>32815</td>\n",
       "      <td>None</td>\n",
       "      <td>None</td>\n",
       "      <td>None</td>\n",
       "      <td>None</td>\n",
       "      <td>None</td>\n",
       "      <td>...</td>\n",
       "      <td>None</td>\n",
       "      <td>None</td>\n",
       "      <td>boundary</td>\n",
       "      <td>None</td>\n",
       "      <td>http://www.berlin.de/ba-steglitz-zehlendorf/</td>\n",
       "      <td>None</td>\n",
       "      <td>Q158064</td>\n",
       "      <td>de:Bezirk Steglitz-Zehlendorf</td>\n",
       "      <td>None</td>\n",
       "      <td>POLYGON ((13.34570 52.41524, 13.34603 52.41553...</td>\n",
       "    </tr>\n",
       "    <tr>\n",
       "      <th>4</th>\n",
       "      <td>relation/55754</td>\n",
       "      <td>relation/55754</td>\n",
       "      <td>Area</td>\n",
       "      <td>9.00</td>\n",
       "      <td>32817</td>\n",
       "      <td>None</td>\n",
       "      <td>None</td>\n",
       "      <td>None</td>\n",
       "      <td>None</td>\n",
       "      <td>None</td>\n",
       "      <td>...</td>\n",
       "      <td>None</td>\n",
       "      <td>None</td>\n",
       "      <td>boundary</td>\n",
       "      <td>None</td>\n",
       "      <td>http://www.berlin.de/ba-treptow-koepenick/</td>\n",
       "      <td>None</td>\n",
       "      <td>Q158089</td>\n",
       "      <td>de:Bezirk Treptow-Köpenick</td>\n",
       "      <td>None</td>\n",
       "      <td>POLYGON ((13.71002 52.39628, 13.71018 52.39619...</td>\n",
       "    </tr>\n",
       "  </tbody>\n",
       "</table>\n",
       "<p>5 rows × 77 columns</p>\n",
       "</div>"
      ],
      "text/plain": [
       "               id             @id TMC:cid_58:tabcd_1:Class  \\\n",
       "0  relation/16334  relation/16334                     Area   \n",
       "1  relation/16343  relation/16343                     None   \n",
       "2  relation/16347  relation/16347                     Area   \n",
       "3  relation/55734  relation/55734                     Area   \n",
       "4  relation/55754  relation/55754                     Area   \n",
       "\n",
       "  TMC:cid_58:tabcd_1:LCLversion TMC:cid_58:tabcd_1:LocationCode access  \\\n",
       "0                          9.00                            4942   None   \n",
       "1                          None                            None   None   \n",
       "2                          9.00                            4885   None   \n",
       "3                          9.00                           32815   None   \n",
       "4                          9.00                           32817   None   \n",
       "\n",
       "  addr:city addr:country addr:housename addr:housenumber  ... toilets  \\\n",
       "0      None         None           None             None  ...    None   \n",
       "1      None         None           None             None  ...    None   \n",
       "2      None         None           None             None  ...    None   \n",
       "3      None         None           None             None  ...    None   \n",
       "4      None         None           None             None  ...    None   \n",
       "\n",
       "  traffic_sign      type waterway  \\\n",
       "0         None  boundary     None   \n",
       "1         None  boundary     None   \n",
       "2         None  boundary     None   \n",
       "3         None  boundary     None   \n",
       "4         None  boundary     None   \n",
       "\n",
       "                                        website wheelchair wikidata  \\\n",
       "0        http://www.berlin.de/ba-reinickendorf/       None  Q158876   \n",
       "1              http://www.berlin.de/ba-spandau/       None  Q158083   \n",
       "2                                          None       None  Q163966   \n",
       "3  http://www.berlin.de/ba-steglitz-zehlendorf/       None  Q158064   \n",
       "4    http://www.berlin.de/ba-treptow-koepenick/       None  Q158089   \n",
       "\n",
       "                       wikipedia @relations  \\\n",
       "0        de:Bezirk Reinickendorf       None   \n",
       "1              de:Bezirk Spandau       None   \n",
       "2                de:Bezirk Mitte       None   \n",
       "3  de:Bezirk Steglitz-Zehlendorf       None   \n",
       "4     de:Bezirk Treptow-Köpenick       None   \n",
       "\n",
       "                                            geometry  \n",
       "0  POLYGON ((13.21740 52.58748, 13.21644 52.58571...  \n",
       "1  POLYGON ((13.15724 52.50162, 13.15722 52.50162...  \n",
       "2  POLYGON ((13.39929 52.54894, 13.39929 52.54895...  \n",
       "3  POLYGON ((13.34570 52.41524, 13.34603 52.41553...  \n",
       "4  POLYGON ((13.71002 52.39628, 13.71018 52.39619...  \n",
       "\n",
       "[5 rows x 77 columns]"
      ]
     },
     "execution_count": 18,
     "metadata": {},
     "output_type": "execute_result"
    }
   ],
   "source": [
    "df_city_borders.head()"
   ]
  },
  {
   "cell_type": "code",
   "execution_count": 19,
   "id": "160f4139",
   "metadata": {
    "ExecuteTime": {
     "end_time": "2021-09-17T08:56:01.470119Z",
     "start_time": "2021-09-17T08:56:01.466081Z"
    }
   },
   "outputs": [
    {
     "data": {
      "text/plain": [
       "geopandas.geodataframe.GeoDataFrame"
      ]
     },
     "execution_count": 19,
     "metadata": {},
     "output_type": "execute_result"
    }
   ],
   "source": [
    "type(df_city_borders)"
   ]
  },
  {
   "cell_type": "code",
   "execution_count": 20,
   "id": "29675aab",
   "metadata": {
    "ExecuteTime": {
     "end_time": "2021-09-17T08:59:21.664483Z",
     "start_time": "2021-09-17T08:59:21.648103Z"
    }
   },
   "outputs": [
    {
     "data": {
      "text/plain": [
       "<Geographic 2D CRS: EPSG:4326>\n",
       "Name: WGS 84\n",
       "Axis Info [ellipsoidal]:\n",
       "- Lat[north]: Geodetic latitude (degree)\n",
       "- Lon[east]: Geodetic longitude (degree)\n",
       "Area of Use:\n",
       "- name: World.\n",
       "- bounds: (-180.0, -90.0, 180.0, 90.0)\n",
       "Datum: World Geodetic System 1984 ensemble\n",
       "- Ellipsoid: WGS 84\n",
       "- Prime Meridian: Greenwich"
      ]
     },
     "execution_count": 20,
     "metadata": {},
     "output_type": "execute_result"
    }
   ],
   "source": [
    "df_city_borders.crs"
   ]
  },
  {
   "cell_type": "code",
   "execution_count": 21,
   "id": "25ef36b6",
   "metadata": {
    "ExecuteTime": {
     "end_time": "2021-09-17T08:59:57.110520Z",
     "start_time": "2021-09-17T08:59:56.867074Z"
    }
   },
   "outputs": [
    {
     "data": {
      "text/plain": [
       "<AxesSubplot:>"
      ]
     },
     "execution_count": 21,
     "metadata": {},
     "output_type": "execute_result"
    },
    {
     "data": {
      "image/png": "[encoded data removed]",
      "text/plain": [
       "<Figure size 504x720 with 1 Axes>"
      ]
     },
     "metadata": {
      "needs_background": "light"
     },
     "output_type": "display_data"
    }
   ],
   "source": [
    "df_city_borders.plot(figsize=(7,10))"
   ]
  },
  {
   "cell_type": "code",
   "execution_count": 22,
   "id": "39545563",
   "metadata": {
    "ExecuteTime": {
     "end_time": "2021-09-17T09:00:30.850563Z",
     "start_time": "2021-09-17T09:00:30.822755Z"
    }
   },
   "outputs": [
    {
     "data": {
      "text/plain": [
       "0    POLYGON ((13.21740 52.58748, 13.21644 52.58571...\n",
       "1    POLYGON ((13.15724 52.50162, 13.15722 52.50162...\n",
       "2    POLYGON ((13.39929 52.54894, 13.39929 52.54895...\n",
       "3    POLYGON ((13.34570 52.41524, 13.34603 52.41553...\n",
       "4    POLYGON ((13.71002 52.39628, 13.71018 52.39619...\n",
       "Name: geometry, dtype: geometry"
      ]
     },
     "execution_count": 22,
     "metadata": {},
     "output_type": "execute_result"
    }
   ],
   "source": [
    "df_city_borders.geometry.head()"
   ]
  },
  {
   "cell_type": "markdown",
   "id": "eafcc525",
   "metadata": {
    "tags": []
   },
   "source": [
    "### Calculating districts area"
   ]
  },
  {
   "cell_type": "code",
   "execution_count": 23,
   "id": "ca0cfc7e",
   "metadata": {
    "ExecuteTime": {
     "end_time": "2021-09-17T09:00:54.102050Z",
     "start_time": "2021-09-17T09:00:54.077929Z"
    }
   },
   "outputs": [
    {
     "name": "stderr",
     "output_type": "stream",
     "text": [
      "/var/folders/b7/qjb6gwz957n_8d871l0pzdm00000gn/T/ipykernel_8374/3183481316.py:1: UserWarning: Geometry is in a geographic CRS. Results from 'area' are likely incorrect. Use 'GeoSeries.to_crs()' to re-project geometries to a projected CRS before this operation.\n",
      "\n",
      "  df_city_borders.area\n"
     ]
    },
    {
     "data": {
      "text/plain": [
       "0      0.011848\n",
       "1      0.012165\n",
       "2      0.005216\n",
       "3      0.013554\n",
       "4      0.022160\n",
       "         ...   \n",
       "539    0.000000\n",
       "540    0.000000\n",
       "541    0.000000\n",
       "542    0.000000\n",
       "543    0.000000\n",
       "Length: 544, dtype: float64"
      ]
     },
     "execution_count": 23,
     "metadata": {},
     "output_type": "execute_result"
    }
   ],
   "source": [
    "df_city_borders.area"
   ]
  },
  {
   "cell_type": "markdown",
   "id": "df98a48c-a151-4b8d-b5cd-2ba92a3dbc16",
   "metadata": {
    "ExecuteTime": {
     "end_time": "2021-09-17T09:01:27.273825Z",
     "start_time": "2021-09-17T09:01:27.112627Z"
    }
   },
   "source": [
    "### Re-project geometries to a projected CRS UTM (Transverse Mercator) see https://epsg.io/ for epsg number"
   ]
  },
  {
   "cell_type": "code",
   "execution_count": 24,
   "id": "6025da90-7078-437a-a98a-d1973bbefafc",
   "metadata": {},
   "outputs": [],
   "source": [
    "df_city_borders_mercator  = df_city_borders.to_crs('epsg:32633')# ATTENTION: epsg:<num> is specific to your location see https://epsg.io/"
   ]
  },
  {
   "cell_type": "code",
   "execution_count": 25,
   "id": "ad7c70b7",
   "metadata": {
    "ExecuteTime": {
     "end_time": "2021-09-17T09:05:00.794876Z",
     "start_time": "2021-09-17T09:05:00.760038Z"
    }
   },
   "outputs": [
    {
     "data": {
      "text/plain": [
       "0    POLYGON ((379236.712 5827874.852, 379166.892 5...\n",
       "1    POLYGON ((374917.759 5818428.414, 374916.292 5...\n",
       "2    POLYGON ((391463.336 5823299.145, 391463.099 5...\n",
       "3    POLYGON ((387489.258 5808511.727, 387512.070 5...\n",
       "4    POLYGON ((412227.888 5805898.116, 412238.699 5...\n",
       "Name: geometry, dtype: geometry"
      ]
     },
     "execution_count": 25,
     "metadata": {},
     "output_type": "execute_result"
    }
   ],
   "source": [
    "df_city_borders_mercator.geometry.head()"
   ]
  },
  {
   "cell_type": "code",
   "execution_count": 26,
   "id": "413f703d-889f-4e9f-99df-3efbdb5bf441",
   "metadata": {},
   "outputs": [
    {
     "data": {
      "text/plain": [
       "<Derived Projected CRS: EPSG:32633>\n",
       "Name: WGS 84 / UTM zone 33N\n",
       "Axis Info [cartesian]:\n",
       "- E[east]: Easting (metre)\n",
       "- N[north]: Northing (metre)\n",
       "Area of Use:\n",
       "- name: Between 12°E and 18°E, northern hemisphere between equator and 84°N, onshore and offshore. Austria. Bosnia and Herzegovina. Cameroon. Central African Republic. Chad. Congo. Croatia. Czechia. Democratic Republic of the Congo (Zaire). Gabon. Germany. Hungary. Italy. Libya. Malta. Niger. Nigeria. Norway. Poland. San Marino. Slovakia. Slovenia. Svalbard. Sweden. Vatican City State.\n",
       "- bounds: (12.0, 0.0, 18.0, 84.0)\n",
       "Coordinate Operation:\n",
       "- name: UTM zone 33N\n",
       "- method: Transverse Mercator\n",
       "Datum: World Geodetic System 1984 ensemble\n",
       "- Ellipsoid: WGS 84\n",
       "- Prime Meridian: Greenwich"
      ]
     },
     "execution_count": 26,
     "metadata": {},
     "output_type": "execute_result"
    }
   ],
   "source": [
    "df_city_borders_mercator.crs"
   ]
  },
  {
   "cell_type": "code",
   "execution_count": 27,
   "id": "15295fa5",
   "metadata": {
    "ExecuteTime": {
     "end_time": "2021-09-17T09:01:50.051153Z",
     "start_time": "2021-09-17T09:01:50.047451Z"
    }
   },
   "outputs": [],
   "source": [
    "df_city_borders['area']=df_city_borders_mercator.area"
   ]
  },
  {
   "cell_type": "code",
   "execution_count": 28,
   "id": "6407dafa",
   "metadata": {
    "ExecuteTime": {
     "end_time": "2021-09-17T09:04:27.475230Z",
     "start_time": "2021-09-17T09:04:27.468524Z"
    }
   },
   "outputs": [
    {
     "data": {
      "text/plain": [
       "0.000000e+00    530\n",
       "8.929648e+07      1\n",
       "9.183423e+07      1\n",
       "3.936867e+07      1\n",
       "1.025267e+08      1\n",
       "1.676258e+08      1\n",
       "2.035939e+07      1\n",
       "5.303804e+07      1\n",
       "4.492633e+07      1\n",
       "6.179157e+07      1\n",
       "1.031671e+08      1\n",
       "6.464723e+07      1\n",
       "5.210910e+07      1\n",
       "1.287973e+07      1\n",
       "1.605912e+03      1\n",
       "Name: area, dtype: int64"
      ]
     },
     "execution_count": 28,
     "metadata": {},
     "output_type": "execute_result"
    }
   ],
   "source": [
    "df_city_borders['area'].value_counts() # There are points, district borders turns nodes, we need to remove them."
   ]
  },
  {
   "cell_type": "code",
   "execution_count": 29,
   "id": "c437b37f",
   "metadata": {
    "ExecuteTime": {
     "end_time": "2021-09-17T09:05:28.345393Z",
     "start_time": "2021-09-17T09:05:28.327036Z"
    }
   },
   "outputs": [],
   "source": [
    "df_city_borders = df_city_borders[df_city_borders['area']>0]"
   ]
  },
  {
   "cell_type": "code",
   "execution_count": 30,
   "id": "0daeba65",
   "metadata": {
    "ExecuteTime": {
     "end_time": "2021-09-20T13:49:19.077531Z",
     "start_time": "2021-09-20T13:49:18.896035Z"
    }
   },
   "outputs": [
    {
     "data": {
      "text/plain": [
       "<AxesSubplot:>"
      ]
     },
     "execution_count": 30,
     "metadata": {},
     "output_type": "execute_result"
    },
    {
     "data": {
      "image/png": "[encoded data removed]",
      "text/plain": [
       "<Figure size 1080x720 with 2 Axes>"
      ]
     },
     "metadata": {
      "needs_background": "light"
     },
     "output_type": "display_data"
    }
   ],
   "source": [
    "df_city_borders.plot(figsize=(15,10),column='area', cmap='Blues' ,legend=True) # Districts heatmap by area"
   ]
  },
  {
   "cell_type": "markdown",
   "id": "6afae3a2",
   "metadata": {},
   "source": [
    "## Loading list of supermarkets"
   ]
  },
  {
   "cell_type": "code",
   "execution_count": 31,
   "id": "cb211f0f",
   "metadata": {
    "ExecuteTime": {
     "end_time": "2021-09-20T13:52:08.184794Z",
     "start_time": "2021-09-20T13:52:02.524100Z"
    },
    "scrolled": true
   },
   "outputs": [],
   "source": [
    "query_sups=\"\"\"area[\"name:en\"=\"Berlin\"];\n",
    "        (\n",
    "            node['shop'='supermarket'](area);\n",
    "        );\n",
    "        out;\n",
    "        \"\"\"\n",
    "result1 = api.query(query_sups)"
   ]
  },
  {
   "cell_type": "code",
   "execution_count": 32,
   "id": "fa0c3ef4",
   "metadata": {
    "ExecuteTime": {
     "end_time": "2021-09-20T13:52:10.538492Z",
     "start_time": "2021-09-20T13:52:10.464870Z"
    }
   },
   "outputs": [],
   "source": [
    "gdf_stores = gpd.GeoDataFrame([ Point(x.lon, x.lat) for x in result1.nodes])\n",
    "gdf_stores.columns=['geometry']"
   ]
  },
  {
   "cell_type": "code",
   "execution_count": 33,
   "id": "e8f2c85b",
   "metadata": {
    "ExecuteTime": {
     "end_time": "2021-09-20T13:52:18.588849Z",
     "start_time": "2021-09-20T13:52:18.579955Z"
    }
   },
   "outputs": [
    {
     "data": {
      "text/html": [
       "<div>\n",
       "<style scoped>\n",
       "    .dataframe tbody tr th:only-of-type {\n",
       "        vertical-align: middle;\n",
       "    }\n",
       "\n",
       "    .dataframe tbody tr th {\n",
       "        vertical-align: top;\n",
       "    }\n",
       "\n",
       "    .dataframe thead th {\n",
       "        text-align: right;\n",
       "    }\n",
       "</style>\n",
       "<table border=\"1\" class=\"dataframe\">\n",
       "  <thead>\n",
       "    <tr style=\"text-align: right;\">\n",
       "      <th></th>\n",
       "      <th>geometry</th>\n",
       "    </tr>\n",
       "  </thead>\n",
       "  <tbody>\n",
       "    <tr>\n",
       "      <th>0</th>\n",
       "      <td>POINT (13.40737 52.50982)</td>\n",
       "    </tr>\n",
       "    <tr>\n",
       "      <th>1</th>\n",
       "      <td>POINT (13.31248 52.57168)</td>\n",
       "    </tr>\n",
       "    <tr>\n",
       "      <th>2</th>\n",
       "      <td>POINT (13.31693 52.56640)</td>\n",
       "    </tr>\n",
       "    <tr>\n",
       "      <th>3</th>\n",
       "      <td>POINT (13.32114 52.57049)</td>\n",
       "    </tr>\n",
       "    <tr>\n",
       "      <th>4</th>\n",
       "      <td>POINT (13.32288 52.49140)</td>\n",
       "    </tr>\n",
       "  </tbody>\n",
       "</table>\n",
       "</div>"
      ],
      "text/plain": [
       "                    geometry\n",
       "0  POINT (13.40737 52.50982)\n",
       "1  POINT (13.31248 52.57168)\n",
       "2  POINT (13.31693 52.56640)\n",
       "3  POINT (13.32114 52.57049)\n",
       "4  POINT (13.32288 52.49140)"
      ]
     },
     "execution_count": 33,
     "metadata": {},
     "output_type": "execute_result"
    }
   ],
   "source": [
    "gdf_stores.head()"
   ]
  },
  {
   "cell_type": "markdown",
   "id": "d38f2612",
   "metadata": {},
   "source": [
    "##### Setting progection"
   ]
  },
  {
   "cell_type": "code",
   "execution_count": 34,
   "id": "abfd86d8",
   "metadata": {
    "ExecuteTime": {
     "end_time": "2021-09-17T09:31:09.337955Z",
     "start_time": "2021-09-17T09:31:09.335379Z"
    }
   },
   "outputs": [
    {
     "data": {
      "text/plain": [
       "<AxesSubplot:>"
      ]
     },
     "execution_count": 34,
     "metadata": {},
     "output_type": "execute_result"
    },
    {
     "data": {
      "image/png": "[encoded data removed]",
      "text/plain": [
       "<Figure size 432x288 with 1 Axes>"
      ]
     },
     "metadata": {
      "needs_background": "light"
     },
     "output_type": "display_data"
    }
   ],
   "source": [
    "gdf_stores.crs\n",
    "gdf_stores.plot()"
   ]
  },
  {
   "cell_type": "code",
   "execution_count": 35,
   "id": "b69abc7b",
   "metadata": {
    "ExecuteTime": {
     "end_time": "2021-09-20T13:52:27.643933Z",
     "start_time": "2021-09-20T13:52:27.535784Z"
    }
   },
   "outputs": [],
   "source": [
    "gdf_stores = gdf_stores.set_crs('epsg:4326')"
   ]
  },
  {
   "cell_type": "code",
   "execution_count": 36,
   "id": "80826b0e",
   "metadata": {
    "ExecuteTime": {
     "end_time": "2021-09-20T13:52:28.252095Z",
     "start_time": "2021-09-20T13:52:28.235477Z"
    }
   },
   "outputs": [
    {
     "data": {
      "text/plain": [
       "<AxesSubplot:>"
      ]
     },
     "execution_count": 36,
     "metadata": {},
     "output_type": "execute_result"
    },
    {
     "data": {
      "image/png": "[encoded data removed]",
      "text/plain": [
       "<Figure size 432x288 with 1 Axes>"
      ]
     },
     "metadata": {
      "needs_background": "light"
     },
     "output_type": "display_data"
    }
   ],
   "source": [
    "gdf_stores.crs\n",
    "gdf_stores.plot()"
   ]
  },
  {
   "cell_type": "markdown",
   "id": "f8f1b005",
   "metadata": {},
   "source": [
    "### Connecting districts to supermarket stats"
   ]
  },
  {
   "cell_type": "code",
   "execution_count": 37,
   "id": "84af9d51",
   "metadata": {
    "ExecuteTime": {
     "end_time": "2021-09-20T13:52:35.881610Z",
     "start_time": "2021-09-20T13:52:35.716152Z"
    }
   },
   "outputs": [],
   "source": [
    "gdf_city_regions_shops = gpd.sjoin(df_city_borders, gdf_stores, predicate='contains', how='left')"
   ]
  },
  {
   "cell_type": "code",
   "execution_count": 38,
   "id": "5792c4e4",
   "metadata": {
    "ExecuteTime": {
     "end_time": "2021-09-20T13:52:45.005230Z",
     "start_time": "2021-09-20T13:52:44.889928Z"
    }
   },
   "outputs": [
    {
     "data": {
      "text/html": [
       "<div>\n",
       "<style scoped>\n",
       "    .dataframe tbody tr th:only-of-type {\n",
       "        vertical-align: middle;\n",
       "    }\n",
       "\n",
       "    .dataframe tbody tr th {\n",
       "        vertical-align: top;\n",
       "    }\n",
       "\n",
       "    .dataframe thead th {\n",
       "        text-align: right;\n",
       "    }\n",
       "</style>\n",
       "<table border=\"1\" class=\"dataframe\">\n",
       "  <thead>\n",
       "    <tr style=\"text-align: right;\">\n",
       "      <th></th>\n",
       "      <th>id</th>\n",
       "      <th>@id</th>\n",
       "      <th>TMC:cid_58:tabcd_1:Class</th>\n",
       "      <th>TMC:cid_58:tabcd_1:LCLversion</th>\n",
       "      <th>TMC:cid_58:tabcd_1:LocationCode</th>\n",
       "      <th>access</th>\n",
       "      <th>addr:city</th>\n",
       "      <th>addr:country</th>\n",
       "      <th>addr:housename</th>\n",
       "      <th>addr:housenumber</th>\n",
       "      <th>...</th>\n",
       "      <th>type</th>\n",
       "      <th>waterway</th>\n",
       "      <th>website</th>\n",
       "      <th>wheelchair</th>\n",
       "      <th>wikidata</th>\n",
       "      <th>wikipedia</th>\n",
       "      <th>@relations</th>\n",
       "      <th>geometry</th>\n",
       "      <th>area</th>\n",
       "      <th>index_right</th>\n",
       "    </tr>\n",
       "  </thead>\n",
       "  <tbody>\n",
       "    <tr>\n",
       "      <th>0</th>\n",
       "      <td>relation/16334</td>\n",
       "      <td>relation/16334</td>\n",
       "      <td>Area</td>\n",
       "      <td>9.00</td>\n",
       "      <td>4942</td>\n",
       "      <td>None</td>\n",
       "      <td>None</td>\n",
       "      <td>None</td>\n",
       "      <td>None</td>\n",
       "      <td>None</td>\n",
       "      <td>...</td>\n",
       "      <td>boundary</td>\n",
       "      <td>None</td>\n",
       "      <td>http://www.berlin.de/ba-reinickendorf/</td>\n",
       "      <td>None</td>\n",
       "      <td>Q158876</td>\n",
       "      <td>de:Bezirk Reinickendorf</td>\n",
       "      <td>None</td>\n",
       "      <td>POLYGON ((13.21740 52.58748, 13.21644 52.58571...</td>\n",
       "      <td>8.929648e+07</td>\n",
       "      <td>56.0</td>\n",
       "    </tr>\n",
       "    <tr>\n",
       "      <th>0</th>\n",
       "      <td>relation/16334</td>\n",
       "      <td>relation/16334</td>\n",
       "      <td>Area</td>\n",
       "      <td>9.00</td>\n",
       "      <td>4942</td>\n",
       "      <td>None</td>\n",
       "      <td>None</td>\n",
       "      <td>None</td>\n",
       "      <td>None</td>\n",
       "      <td>None</td>\n",
       "      <td>...</td>\n",
       "      <td>boundary</td>\n",
       "      <td>None</td>\n",
       "      <td>http://www.berlin.de/ba-reinickendorf/</td>\n",
       "      <td>None</td>\n",
       "      <td>Q158876</td>\n",
       "      <td>de:Bezirk Reinickendorf</td>\n",
       "      <td>None</td>\n",
       "      <td>POLYGON ((13.21740 52.58748, 13.21644 52.58571...</td>\n",
       "      <td>8.929648e+07</td>\n",
       "      <td>157.0</td>\n",
       "    </tr>\n",
       "    <tr>\n",
       "      <th>0</th>\n",
       "      <td>relation/16334</td>\n",
       "      <td>relation/16334</td>\n",
       "      <td>Area</td>\n",
       "      <td>9.00</td>\n",
       "      <td>4942</td>\n",
       "      <td>None</td>\n",
       "      <td>None</td>\n",
       "      <td>None</td>\n",
       "      <td>None</td>\n",
       "      <td>None</td>\n",
       "      <td>...</td>\n",
       "      <td>boundary</td>\n",
       "      <td>None</td>\n",
       "      <td>http://www.berlin.de/ba-reinickendorf/</td>\n",
       "      <td>None</td>\n",
       "      <td>Q158876</td>\n",
       "      <td>de:Bezirk Reinickendorf</td>\n",
       "      <td>None</td>\n",
       "      <td>POLYGON ((13.21740 52.58748, 13.21644 52.58571...</td>\n",
       "      <td>8.929648e+07</td>\n",
       "      <td>325.0</td>\n",
       "    </tr>\n",
       "    <tr>\n",
       "      <th>0</th>\n",
       "      <td>relation/16334</td>\n",
       "      <td>relation/16334</td>\n",
       "      <td>Area</td>\n",
       "      <td>9.00</td>\n",
       "      <td>4942</td>\n",
       "      <td>None</td>\n",
       "      <td>None</td>\n",
       "      <td>None</td>\n",
       "      <td>None</td>\n",
       "      <td>None</td>\n",
       "      <td>...</td>\n",
       "      <td>boundary</td>\n",
       "      <td>None</td>\n",
       "      <td>http://www.berlin.de/ba-reinickendorf/</td>\n",
       "      <td>None</td>\n",
       "      <td>Q158876</td>\n",
       "      <td>de:Bezirk Reinickendorf</td>\n",
       "      <td>None</td>\n",
       "      <td>POLYGON ((13.21740 52.58748, 13.21644 52.58571...</td>\n",
       "      <td>8.929648e+07</td>\n",
       "      <td>10.0</td>\n",
       "    </tr>\n",
       "    <tr>\n",
       "      <th>0</th>\n",
       "      <td>relation/16334</td>\n",
       "      <td>relation/16334</td>\n",
       "      <td>Area</td>\n",
       "      <td>9.00</td>\n",
       "      <td>4942</td>\n",
       "      <td>None</td>\n",
       "      <td>None</td>\n",
       "      <td>None</td>\n",
       "      <td>None</td>\n",
       "      <td>None</td>\n",
       "      <td>...</td>\n",
       "      <td>boundary</td>\n",
       "      <td>None</td>\n",
       "      <td>http://www.berlin.de/ba-reinickendorf/</td>\n",
       "      <td>None</td>\n",
       "      <td>Q158876</td>\n",
       "      <td>de:Bezirk Reinickendorf</td>\n",
       "      <td>None</td>\n",
       "      <td>POLYGON ((13.21740 52.58748, 13.21644 52.58571...</td>\n",
       "      <td>8.929648e+07</td>\n",
       "      <td>593.0</td>\n",
       "    </tr>\n",
       "  </tbody>\n",
       "</table>\n",
       "<p>5 rows × 79 columns</p>\n",
       "</div>"
      ],
      "text/plain": [
       "               id             @id TMC:cid_58:tabcd_1:Class  \\\n",
       "0  relation/16334  relation/16334                     Area   \n",
       "0  relation/16334  relation/16334                     Area   \n",
       "0  relation/16334  relation/16334                     Area   \n",
       "0  relation/16334  relation/16334                     Area   \n",
       "0  relation/16334  relation/16334                     Area   \n",
       "\n",
       "  TMC:cid_58:tabcd_1:LCLversion TMC:cid_58:tabcd_1:LocationCode access  \\\n",
       "0                          9.00                            4942   None   \n",
       "0                          9.00                            4942   None   \n",
       "0                          9.00                            4942   None   \n",
       "0                          9.00                            4942   None   \n",
       "0                          9.00                            4942   None   \n",
       "\n",
       "  addr:city addr:country addr:housename addr:housenumber  ...      type  \\\n",
       "0      None         None           None             None  ...  boundary   \n",
       "0      None         None           None             None  ...  boundary   \n",
       "0      None         None           None             None  ...  boundary   \n",
       "0      None         None           None             None  ...  boundary   \n",
       "0      None         None           None             None  ...  boundary   \n",
       "\n",
       "  waterway                                 website wheelchair wikidata  \\\n",
       "0     None  http://www.berlin.de/ba-reinickendorf/       None  Q158876   \n",
       "0     None  http://www.berlin.de/ba-reinickendorf/       None  Q158876   \n",
       "0     None  http://www.berlin.de/ba-reinickendorf/       None  Q158876   \n",
       "0     None  http://www.berlin.de/ba-reinickendorf/       None  Q158876   \n",
       "0     None  http://www.berlin.de/ba-reinickendorf/       None  Q158876   \n",
       "\n",
       "                 wikipedia @relations  \\\n",
       "0  de:Bezirk Reinickendorf       None   \n",
       "0  de:Bezirk Reinickendorf       None   \n",
       "0  de:Bezirk Reinickendorf       None   \n",
       "0  de:Bezirk Reinickendorf       None   \n",
       "0  de:Bezirk Reinickendorf       None   \n",
       "\n",
       "                                            geometry          area index_right  \n",
       "0  POLYGON ((13.21740 52.58748, 13.21644 52.58571...  8.929648e+07        56.0  \n",
       "0  POLYGON ((13.21740 52.58748, 13.21644 52.58571...  8.929648e+07       157.0  \n",
       "0  POLYGON ((13.21740 52.58748, 13.21644 52.58571...  8.929648e+07       325.0  \n",
       "0  POLYGON ((13.21740 52.58748, 13.21644 52.58571...  8.929648e+07        10.0  \n",
       "0  POLYGON ((13.21740 52.58748, 13.21644 52.58571...  8.929648e+07       593.0  \n",
       "\n",
       "[5 rows x 79 columns]"
      ]
     },
     "execution_count": 38,
     "metadata": {},
     "output_type": "execute_result"
    }
   ],
   "source": [
    "gdf_city_regions_shops.head()"
   ]
  },
  {
   "cell_type": "code",
   "execution_count": 39,
   "id": "3df8e73c",
   "metadata": {
    "ExecuteTime": {
     "end_time": "2021-09-20T13:55:36.779256Z",
     "start_time": "2021-09-20T13:53:11.300488Z"
    }
   },
   "outputs": [],
   "source": [
    "gdf_city_regions = gdf_city_regions_shops[['name','area','id','geometry']].dissolve(by=['name','area'], aggfunc='count') # Group by districts and counting number of shops"
   ]
  },
  {
   "cell_type": "code",
   "execution_count": 40,
   "id": "6235c8b6",
   "metadata": {
    "ExecuteTime": {
     "end_time": "2021-09-20T13:55:36.858652Z",
     "start_time": "2021-09-20T13:55:36.781155Z"
    }
   },
   "outputs": [
    {
     "data": {
      "text/html": [
       "<div>\n",
       "<style scoped>\n",
       "    .dataframe tbody tr th:only-of-type {\n",
       "        vertical-align: middle;\n",
       "    }\n",
       "\n",
       "    .dataframe tbody tr th {\n",
       "        vertical-align: top;\n",
       "    }\n",
       "\n",
       "    .dataframe thead th {\n",
       "        text-align: right;\n",
       "    }\n",
       "</style>\n",
       "<table border=\"1\" class=\"dataframe\">\n",
       "  <thead>\n",
       "    <tr style=\"text-align: right;\">\n",
       "      <th></th>\n",
       "      <th></th>\n",
       "      <th>geometry</th>\n",
       "      <th>id</th>\n",
       "    </tr>\n",
       "    <tr>\n",
       "      <th>name</th>\n",
       "      <th>area</th>\n",
       "      <th></th>\n",
       "      <th></th>\n",
       "    </tr>\n",
       "  </thead>\n",
       "  <tbody>\n",
       "    <tr>\n",
       "      <th>Charlottenburg-Wilmersdorf</th>\n",
       "      <th>6.464723e+07</th>\n",
       "      <td>POLYGON ((13.33533 52.51504, 13.33538 52.51486...</td>\n",
       "      <td>117</td>\n",
       "    </tr>\n",
       "    <tr>\n",
       "      <th>Friedrichshain-Kreuzberg</th>\n",
       "      <th>2.035939e+07</th>\n",
       "      <td>POLYGON ((13.47414 52.51894, 13.47547 52.51691...</td>\n",
       "      <td>90</td>\n",
       "    </tr>\n",
       "    <tr>\n",
       "      <th>Lichtenberg</th>\n",
       "      <th>5.210910e+07</th>\n",
       "      <td>POLYGON ((13.46810 52.52349, 13.46760 52.52366...</td>\n",
       "      <td>44</td>\n",
       "    </tr>\n",
       "    <tr>\n",
       "      <th>Marzahn-Hellersdorf</th>\n",
       "      <th>6.179157e+07</th>\n",
       "      <td>POLYGON ((13.54232 52.56615, 13.54240 52.56616...</td>\n",
       "      <td>30</td>\n",
       "    </tr>\n",
       "    <tr>\n",
       "      <th>Mitte</th>\n",
       "      <th>3.936867e+07</th>\n",
       "      <td>POLYGON ((13.39935 52.54656, 13.39936 52.54654...</td>\n",
       "      <td>123</td>\n",
       "    </tr>\n",
       "    <tr>\n",
       "      <th>Neukölln</th>\n",
       "      <th>4.492633e+07</th>\n",
       "      <td>POLYGON ((13.43194 52.41252, 13.43035 52.41225...</td>\n",
       "      <td>83</td>\n",
       "    </tr>\n",
       "    <tr>\n",
       "      <th>Pankow</th>\n",
       "      <th>1.031671e+08</th>\n",
       "      <td>MULTIPOLYGON (((13.39685 52.55070, 13.39719 52...</td>\n",
       "      <td>104</td>\n",
       "    </tr>\n",
       "    <tr>\n",
       "      <th>Reinickendorf</th>\n",
       "      <th>8.929648e+07</th>\n",
       "      <td>POLYGON ((13.21886 52.59237, 13.21812 52.59319...</td>\n",
       "      <td>42</td>\n",
       "    </tr>\n",
       "    <tr>\n",
       "      <th>Schwanebeck</th>\n",
       "      <th>1.287973e+07</th>\n",
       "      <td>POLYGON ((13.50472 52.61964, 13.50461 52.61959...</td>\n",
       "      <td>1</td>\n",
       "    </tr>\n",
       "    <tr>\n",
       "      <th>Spandau</th>\n",
       "      <th>9.183423e+07</th>\n",
       "      <td>POLYGON ((13.15881 52.50273, 13.15910 52.50290...</td>\n",
       "      <td>44</td>\n",
       "    </tr>\n",
       "    <tr>\n",
       "      <th>Steglitz-Zehlendorf</th>\n",
       "      <th>1.025267e+08</th>\n",
       "      <td>POLYGON ((13.34317 52.41263, 13.34294 52.41173...</td>\n",
       "      <td>52</td>\n",
       "    </tr>\n",
       "    <tr>\n",
       "      <th>Tempelhof-Schöneberg</th>\n",
       "      <th>5.303804e+07</th>\n",
       "      <td>POLYGON ((13.36884 52.49878, 13.36908 52.49875...</td>\n",
       "      <td>88</td>\n",
       "    </tr>\n",
       "    <tr>\n",
       "      <th>Treptow-Köpenick</th>\n",
       "      <th>1.676258e+08</th>\n",
       "      <td>POLYGON ((13.70925 52.39569, 13.70883 52.39545...</td>\n",
       "      <td>38</td>\n",
       "    </tr>\n",
       "  </tbody>\n",
       "</table>\n",
       "</div>"
      ],
      "text/plain": [
       "                                                                                  geometry  \\\n",
       "name                       area                                                              \n",
       "Charlottenburg-Wilmersdorf 6.464723e+07  POLYGON ((13.33533 52.51504, 13.33538 52.51486...   \n",
       "Friedrichshain-Kreuzberg   2.035939e+07  POLYGON ((13.47414 52.51894, 13.47547 52.51691...   \n",
       "Lichtenberg                5.210910e+07  POLYGON ((13.46810 52.52349, 13.46760 52.52366...   \n",
       "Marzahn-Hellersdorf        6.179157e+07  POLYGON ((13.54232 52.56615, 13.54240 52.56616...   \n",
       "Mitte                      3.936867e+07  POLYGON ((13.39935 52.54656, 13.39936 52.54654...   \n",
       "Neukölln                   4.492633e+07  POLYGON ((13.43194 52.41252, 13.43035 52.41225...   \n",
       "Pankow                     1.031671e+08  MULTIPOLYGON (((13.39685 52.55070, 13.39719 52...   \n",
       "Reinickendorf              8.929648e+07  POLYGON ((13.21886 52.59237, 13.21812 52.59319...   \n",
       "Schwanebeck                1.287973e+07  POLYGON ((13.50472 52.61964, 13.50461 52.61959...   \n",
       "Spandau                    9.183423e+07  POLYGON ((13.15881 52.50273, 13.15910 52.50290...   \n",
       "Steglitz-Zehlendorf        1.025267e+08  POLYGON ((13.34317 52.41263, 13.34294 52.41173...   \n",
       "Tempelhof-Schöneberg       5.303804e+07  POLYGON ((13.36884 52.49878, 13.36908 52.49875...   \n",
       "Treptow-Köpenick           1.676258e+08  POLYGON ((13.70925 52.39569, 13.70883 52.39545...   \n",
       "\n",
       "                                          id  \n",
       "name                       area               \n",
       "Charlottenburg-Wilmersdorf 6.464723e+07  117  \n",
       "Friedrichshain-Kreuzberg   2.035939e+07   90  \n",
       "Lichtenberg                5.210910e+07   44  \n",
       "Marzahn-Hellersdorf        6.179157e+07   30  \n",
       "Mitte                      3.936867e+07  123  \n",
       "Neukölln                   4.492633e+07   83  \n",
       "Pankow                     1.031671e+08  104  \n",
       "Reinickendorf              8.929648e+07   42  \n",
       "Schwanebeck                1.287973e+07    1  \n",
       "Spandau                    9.183423e+07   44  \n",
       "Steglitz-Zehlendorf        1.025267e+08   52  \n",
       "Tempelhof-Schöneberg       5.303804e+07   88  \n",
       "Treptow-Köpenick           1.676258e+08   38  "
      ]
     },
     "execution_count": 40,
     "metadata": {},
     "output_type": "execute_result"
    }
   ],
   "source": [
    "gdf_city_regions"
   ]
  },
  {
   "cell_type": "code",
   "execution_count": 41,
   "id": "a749b85e",
   "metadata": {
    "ExecuteTime": {
     "end_time": "2021-09-20T14:06:42.546689Z",
     "start_time": "2021-09-20T14:06:42.542742Z"
    }
   },
   "outputs": [],
   "source": [
    "gdf_city_regions.reset_index(inplace=True) #reseting index for better performance"
   ]
  },
  {
   "cell_type": "code",
   "execution_count": 42,
   "id": "8cfde4f5",
   "metadata": {
    "ExecuteTime": {
     "end_time": "2021-09-20T14:07:46.303308Z",
     "start_time": "2021-09-20T14:07:46.298613Z"
    }
   },
   "outputs": [],
   "source": [
    "# density per 1 km2\n",
    "gdf_city_regions['density']=gdf_city_regions['id']/gdf_city_regions['area']/(10**(-6))"
   ]
  },
  {
   "cell_type": "code",
   "execution_count": 43,
   "id": "de0e1835",
   "metadata": {
    "ExecuteTime": {
     "end_time": "2021-09-20T14:07:49.609950Z",
     "start_time": "2021-09-20T14:07:49.347509Z"
    }
   },
   "outputs": [
    {
     "data": {
      "image/png": "[encoded data removed]",
      "text/plain": [
       "<Figure size 1080x720 with 2 Axes>"
      ]
     },
     "metadata": {
      "needs_background": "light"
     },
     "output_type": "display_data"
    }
   ],
   "source": [
    "gdf_city_regions.plot(column='density', figsize=(15,10),legend=True);"
   ]
  },
  {
   "cell_type": "code",
   "execution_count": 44,
   "id": "33a7a45c",
   "metadata": {
    "ExecuteTime": {
     "end_time": "2021-09-17T16:30:46.471475Z",
     "start_time": "2021-09-17T16:30:46.225677Z"
    }
   },
   "outputs": [
    {
     "name": "stderr",
     "output_type": "stream",
     "text": [
      "/Users/yurivlasov/Projects/miniforge3/envs/all_geodata_scripts/lib/python3.9/site-packages/geopandas/io/file.py:362: FutureWarning: pandas.Int64Index is deprecated and will be removed from pandas in a future version. Use pandas.Index with the appropriate dtype instead.\n",
      "  pd.Int64Index,\n"
     ]
    }
   ],
   "source": [
    "gdf_city_regions.to_file('gdf_city_regions.geojson', driver='GeoJSON')"
   ]
  },
  {
   "cell_type": "code",
   "execution_count": null,
   "id": "48dec64d",
   "metadata": {},
   "outputs": [],
   "source": []
  }
 ],
 "metadata": {
  "kernelspec": {
   "display_name": "Python 3 (ipykernel)",
   "language": "python",
   "name": "python3"
  },
  "language_info": {
   "codemirror_mode": {
    "name": "ipython",
    "version": 3
   },
   "file_extension": ".py",
   "mimetype": "text/x-python",
   "name": "python",
   "nbconvert_exporter": "python",
   "pygments_lexer": "ipython3",
   "version": "3.9.12"
  }
 },
 "nbformat": 4,
 "nbformat_minor": 5
}
